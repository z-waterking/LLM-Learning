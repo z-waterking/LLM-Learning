{
 "cells": [
  {
   "cell_type": "code",
   "execution_count": 1,
   "id": "cbe9efb4-4a4e-47c8-910c-d1859e83e923",
   "metadata": {},
   "outputs": [],
   "source": [
    "import os\n",
    "import torch\n",
    "from torch import nn\n",
    "from torch.utils.data import DataLoader\n",
    "from torchvision import datasets, transforms"
   ]
  },
  {
   "cell_type": "code",
   "execution_count": 3,
   "id": "b9561ffa-33b5-41bd-b765-c319e84ba25a",
   "metadata": {},
   "outputs": [
    {
     "name": "stdout",
     "output_type": "stream",
     "text": [
      "Using cpu device\n"
     ]
    }
   ],
   "source": [
    "device = (\n",
    "    \"cuda\"\n",
    "    if torch.cuda.is_available()\n",
    "    else \"mps\"\n",
    "    if torch.backends.mps.is_available()\n",
    "    else \"cpu\"\n",
    ")\n",
    "print(f\"Using {device} device\")"
   ]
  },
  {
   "cell_type": "code",
   "execution_count": 9,
   "id": "4a666091-68c7-409f-801c-92e12351690f",
   "metadata": {},
   "outputs": [],
   "source": [
    "class NeuralNetwork(nn.Module):\n",
    "    def __init__(self):\n",
    "        super().__init__()\n",
    "        self.flatten = nn.Flatten()\n",
    "        self.linear_relu_stack = nn.Sequential(\n",
    "            nn.Linear(28*28, 512),\n",
    "            nn.ReLU(),\n",
    "            nn.Linear(512, 512),\n",
    "            nn.ReLU(),\n",
    "            nn.Linear(512, 10)\n",
    "        )\n",
    "\n",
    "    def forward(self, x):\n",
    "        x = self.flatten(x)\n",
    "        logits = self.linear_relu_stack(x)\n",
    "        return logits\n",
    "\n"
   ]
  },
  {
   "cell_type": "code",
   "execution_count": 11,
   "id": "c93bb6ef-6a96-44fb-8fc0-9b313f5d9538",
   "metadata": {},
   "outputs": [
    {
     "name": "stdout",
     "output_type": "stream",
     "text": [
      "NeuralNetwork(\n",
      "  (flatten): Flatten(start_dim=1, end_dim=-1)\n",
      "  (linear_relu_stack): Sequential(\n",
      "    (0): Linear(in_features=784, out_features=512, bias=True)\n",
      "    (1): ReLU()\n",
      "    (2): Linear(in_features=512, out_features=512, bias=True)\n",
      "    (3): ReLU()\n",
      "    (4): Linear(in_features=512, out_features=10, bias=True)\n",
      "  )\n",
      ")\n"
     ]
    }
   ],
   "source": [
    "model = NeuralNetwork().to(device)\n",
    "print(model)"
   ]
  },
  {
   "cell_type": "code",
   "execution_count": 15,
   "id": "497d12fb-b27a-4417-8a8d-cb9f46df1cd4",
   "metadata": {},
   "outputs": [
    {
     "name": "stdout",
     "output_type": "stream",
     "text": [
      "tensor([[ 0.0323, -0.0062,  0.0159,  0.0091, -0.0016,  0.0296,  0.0304, -0.1042,\n",
      "          0.0709, -0.0233]], grad_fn=<AddmmBackward0>)\n",
      "tensor([[0.1026, 0.0988, 0.1010, 0.1003, 0.0992, 0.1024, 0.1024, 0.0895, 0.1067,\n",
      "         0.0971]], grad_fn=<SoftmaxBackward0>)\n"
     ]
    },
    {
     "data": {
      "text/plain": [
       "tensor([8])"
      ]
     },
     "execution_count": 15,
     "metadata": {},
     "output_type": "execute_result"
    }
   ],
   "source": [
    "X = torch.rand(1, 28, 28, device=device)\n",
    "logits = model(X)\n",
    "print(logits)\n",
    "pred_probab = nn.Softmax(dim=1)(logits)\n",
    "print(pred_probab)\n",
    "y_pred = pred_probab.argmax(1)\n",
    "y_pred"
   ]
  },
  {
   "cell_type": "markdown",
   "id": "faed0070-6e92-4397-afd5-5bc32f6707b4",
   "metadata": {},
   "source": [
    "# Model Layers"
   ]
  },
  {
   "cell_type": "code",
   "execution_count": 24,
   "id": "a638c09b-dc6d-45c9-9b5f-c6427ddc534d",
   "metadata": {},
   "outputs": [
    {
     "name": "stdout",
     "output_type": "stream",
     "text": [
      "torch.Size([3, 28, 28])\n"
     ]
    }
   ],
   "source": [
    "input_image = torch.rand(3, 28, 28)\n",
    "print(input_image.size())"
   ]
  },
  {
   "cell_type": "code",
   "execution_count": 28,
   "id": "d75b51ba-48b4-4d16-bdba-bbadfb843a31",
   "metadata": {},
   "outputs": [
    {
     "name": "stdout",
     "output_type": "stream",
     "text": [
      "torch.Size([3, 784])\n"
     ]
    }
   ],
   "source": [
    "flatten = nn.Flatten()\n",
    "flat_image = flatten(input_image)\n",
    "print(flat_image.size())"
   ]
  },
  {
   "cell_type": "code",
   "execution_count": 30,
   "id": "137ad983-3180-4eea-b6ae-8e220f55f80c",
   "metadata": {},
   "outputs": [
    {
     "name": "stdout",
     "output_type": "stream",
     "text": [
      "torch.Size([3, 20]) tensor([[ 0.5721, -0.3378,  0.2011,  0.7399, -0.4280, -0.2504,  0.0774,  0.5536,\n",
      "         -0.1068, -0.1344, -0.3614,  0.1445,  0.4435, -0.1851,  0.0337,  0.1948,\n",
      "          0.2411,  0.3593, -0.0502,  0.4875],\n",
      "        [ 0.5492, -0.3913,  0.1249,  0.5547, -0.1225, -0.3004, -0.1348,  0.6056,\n",
      "         -0.0979, -0.0814, -0.1862, -0.0064,  0.1608, -0.1174,  0.0693, -0.1935,\n",
      "          0.4225, -0.0411,  0.1246,  0.5634],\n",
      "        [ 0.2972, -0.0642,  0.3700,  0.5138, -0.5365, -0.2348, -0.0669,  0.7572,\n",
      "          0.0417,  0.0032, -0.0776,  0.1724,  0.2319, -0.1522, -0.0129,  0.0290,\n",
      "          0.0930,  0.5025,  0.0104,  0.0256]], grad_fn=<AddmmBackward0>)\n"
     ]
    }
   ],
   "source": [
    "layer1 = nn.Linear(in_features = 28 * 28, out_features = 20)\n",
    "hidden1 = layer1(flat_image)\n",
    "print(hidden1.size(), hidden1)"
   ]
  },
  {
   "cell_type": "code",
   "execution_count": 32,
   "id": "c94ae9bd-cd74-4bc3-90fb-2a91cd13acb9",
   "metadata": {},
   "outputs": [
    {
     "name": "stdout",
     "output_type": "stream",
     "text": [
      "Before ReLU: tensor([[ 0.5721, -0.3378,  0.2011,  0.7399, -0.4280, -0.2504,  0.0774,  0.5536,\n",
      "         -0.1068, -0.1344, -0.3614,  0.1445,  0.4435, -0.1851,  0.0337,  0.1948,\n",
      "          0.2411,  0.3593, -0.0502,  0.4875],\n",
      "        [ 0.5492, -0.3913,  0.1249,  0.5547, -0.1225, -0.3004, -0.1348,  0.6056,\n",
      "         -0.0979, -0.0814, -0.1862, -0.0064,  0.1608, -0.1174,  0.0693, -0.1935,\n",
      "          0.4225, -0.0411,  0.1246,  0.5634],\n",
      "        [ 0.2972, -0.0642,  0.3700,  0.5138, -0.5365, -0.2348, -0.0669,  0.7572,\n",
      "          0.0417,  0.0032, -0.0776,  0.1724,  0.2319, -0.1522, -0.0129,  0.0290,\n",
      "          0.0930,  0.5025,  0.0104,  0.0256]], grad_fn=<AddmmBackward0>)\n",
      "\n",
      "\n",
      "After ReLU: tensor([[0.5721, 0.0000, 0.2011, 0.7399, 0.0000, 0.0000, 0.0774, 0.5536, 0.0000,\n",
      "         0.0000, 0.0000, 0.1445, 0.4435, 0.0000, 0.0337, 0.1948, 0.2411, 0.3593,\n",
      "         0.0000, 0.4875],\n",
      "        [0.5492, 0.0000, 0.1249, 0.5547, 0.0000, 0.0000, 0.0000, 0.6056, 0.0000,\n",
      "         0.0000, 0.0000, 0.0000, 0.1608, 0.0000, 0.0693, 0.0000, 0.4225, 0.0000,\n",
      "         0.1246, 0.5634],\n",
      "        [0.2972, 0.0000, 0.3700, 0.5138, 0.0000, 0.0000, 0.0000, 0.7572, 0.0417,\n",
      "         0.0032, 0.0000, 0.1724, 0.2319, 0.0000, 0.0000, 0.0290, 0.0930, 0.5025,\n",
      "         0.0104, 0.0256]], grad_fn=<ReluBackward0>)\n",
      "\n",
      "\n"
     ]
    }
   ],
   "source": [
    "print(f\"Before ReLU: {hidden1}\\n\\n\")\n",
    "hidden1 = nn.ReLU()(hidden1)\n",
    "print(f\"After ReLU: {hidden1}\\n\\n\")"
   ]
  },
  {
   "cell_type": "code",
   "execution_count": 34,
   "id": "4719db85-8b18-4939-be8c-16f811a6fcfb",
   "metadata": {},
   "outputs": [
    {
     "name": "stdout",
     "output_type": "stream",
     "text": [
      "tensor([[-3.2853e-02, -2.2793e-01, -6.9081e-02, -3.5297e-02, -1.0422e-01,\n",
      "          1.5244e-01, -2.9044e-02,  1.8773e-01,  1.5416e-02,  4.5994e-01],\n",
      "        [-2.0958e-02, -3.6648e-01, -3.0279e-02, -5.5924e-04, -8.0111e-02,\n",
      "          1.3686e-01,  7.7066e-02,  1.9329e-01, -1.0135e-01,  5.3152e-01],\n",
      "        [ 9.3064e-02, -3.6606e-01, -4.0552e-02, -1.0528e-02, -2.6645e-01,\n",
      "          1.3931e-01, -8.6302e-02,  1.9515e-01,  1.8211e-01,  6.3218e-01]],\n",
      "       grad_fn=<AddmmBackward0>)\n"
     ]
    }
   ],
   "source": [
    "seq_modules = nn.Sequential(\n",
    "    flatten,\n",
    "    layer1,\n",
    "    nn.ReLU(),\n",
    "    nn.Linear(20, 10)\n",
    ")\n",
    "\n",
    "input_image = torch.rand(3, 28, 28)\n",
    "logits = seq_modules(input_image)\n",
    "print(logits)"
   ]
  },
  {
   "cell_type": "code",
   "execution_count": 36,
   "id": "a6f1b7f7-c418-4af0-a08b-51499129c282",
   "metadata": {},
   "outputs": [
    {
     "name": "stdout",
     "output_type": "stream",
     "text": [
      "tensor([[0.0921, 0.0758, 0.0888, 0.0919, 0.0858, 0.1109, 0.0925, 0.1148, 0.0967,\n",
      "         0.1508],\n",
      "        [0.0923, 0.0653, 0.0914, 0.0942, 0.0870, 0.1081, 0.1018, 0.1143, 0.0852,\n",
      "         0.1604],\n",
      "        [0.1010, 0.0638, 0.0883, 0.0910, 0.0705, 0.1057, 0.0844, 0.1118, 0.1104,\n",
      "         0.1731]], grad_fn=<SoftmaxBackward0>)\n"
     ]
    }
   ],
   "source": [
    "softmax = nn.Softmax(dim=1)\n",
    "pred_probab = softmax(logits)\n",
    "print(pred_probab)"
   ]
  },
  {
   "cell_type": "markdown",
   "id": "137d6ad5-7333-4839-a648-41e2e9e54905",
   "metadata": {},
   "source": [
    "# Model Parameters"
   ]
  },
  {
   "cell_type": "code",
   "execution_count": 39,
   "id": "8818e2f1-8d21-49ee-b077-f079640935af",
   "metadata": {},
   "outputs": [
    {
     "name": "stdout",
     "output_type": "stream",
     "text": [
      "Model structure: NeuralNetwork(\n",
      "  (flatten): Flatten(start_dim=1, end_dim=-1)\n",
      "  (linear_relu_stack): Sequential(\n",
      "    (0): Linear(in_features=784, out_features=512, bias=True)\n",
      "    (1): ReLU()\n",
      "    (2): Linear(in_features=512, out_features=512, bias=True)\n",
      "    (3): ReLU()\n",
      "    (4): Linear(in_features=512, out_features=10, bias=True)\n",
      "  )\n",
      ")\n",
      "\n",
      "\n",
      "Layer: linear_relu_stack.0.weight | Size: torch.Size([512, 784]) | Values : tensor([[-0.0080, -0.0081, -0.0290,  ..., -0.0042,  0.0213,  0.0042],\n",
      "        [-0.0296,  0.0302,  0.0254,  ..., -0.0042,  0.0038, -0.0174]],\n",
      "       grad_fn=<SliceBackward0>) \n",
      "\n",
      "Layer: linear_relu_stack.0.bias | Size: torch.Size([512]) | Values : tensor([-0.0066,  0.0329], grad_fn=<SliceBackward0>) \n",
      "\n",
      "Layer: linear_relu_stack.2.weight | Size: torch.Size([512, 512]) | Values : tensor([[-0.0019,  0.0276, -0.0065,  ...,  0.0411, -0.0067,  0.0381],\n",
      "        [ 0.0042, -0.0022,  0.0112,  ...,  0.0428, -0.0423,  0.0423]],\n",
      "       grad_fn=<SliceBackward0>) \n",
      "\n",
      "Layer: linear_relu_stack.2.bias | Size: torch.Size([512]) | Values : tensor([-0.0266, -0.0327], grad_fn=<SliceBackward0>) \n",
      "\n",
      "Layer: linear_relu_stack.4.weight | Size: torch.Size([10, 512]) | Values : tensor([[-0.0407,  0.0231, -0.0374,  ...,  0.0123,  0.0148, -0.0377],\n",
      "        [-0.0379, -0.0138, -0.0313,  ..., -0.0305,  0.0255, -0.0010]],\n",
      "       grad_fn=<SliceBackward0>) \n",
      "\n",
      "Layer: linear_relu_stack.4.bias | Size: torch.Size([10]) | Values : tensor([0.0102, 0.0178], grad_fn=<SliceBackward0>) \n",
      "\n"
     ]
    }
   ],
   "source": [
    "print(f\"Model structure: {model}\\n\\n\")\n",
    "\n",
    "for name, param in model.named_parameters():\n",
    "    print(f\"Layer: {name} | Size: {param.size()} | Values : {param[:2]} \\n\")"
   ]
  },
  {
   "cell_type": "code",
   "execution_count": null,
   "id": "4e3c431a-d817-4f52-9136-9403cfbaceea",
   "metadata": {},
   "outputs": [],
   "source": []
  }
 ],
 "metadata": {
  "kernelspec": {
   "display_name": "Python 3 (ipykernel)",
   "language": "python",
   "name": "python3"
  },
  "language_info": {
   "codemirror_mode": {
    "name": "ipython",
    "version": 3
   },
   "file_extension": ".py",
   "mimetype": "text/x-python",
   "name": "python",
   "nbconvert_exporter": "python",
   "pygments_lexer": "ipython3",
   "version": "3.12.4"
  }
 },
 "nbformat": 4,
 "nbformat_minor": 5
}
