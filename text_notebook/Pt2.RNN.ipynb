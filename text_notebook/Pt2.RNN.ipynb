{
 "cells": [
  {
   "cell_type": "code",
   "execution_count": null,
   "id": "9e6a1b84-9a39-4a9d-b04d-405e338c2ac2",
   "metadata": {},
   "outputs": [],
   "source": [
    "import numpy as np"
   ]
  },
  {
   "cell_type": "code",
   "execution_count": null,
   "id": "47297956-dead-4c03-a764-67d9392de89b",
   "metadata": {},
   "outputs": [],
   "source": [
    "class RNN:\n",
    "    def __init__(self, hidden_size, vocab_size, seq_length, learning_rate):\n",
    "        # hyper parameters\n",
    "        self.hidden_size = hidden_size\n",
    "        self.vocab_size = vocab_size\n",
    "        self.seq_length = seq_length\n",
    "        self.learning_rate = learning_rate\n",
    "        # model parameters\n",
    "        self.U = np.random.uniform(-np.sqrt(1./vocab_size), np.sqrt(1./vocab_size), (hidden_size, vocab_size))\n",
    "        self.V = np.random.uniform(-np.sqrt(1./hidden_size), np.sqrt(1./hidden_size), (vocab_size, hidden_size))\n",
    "        self.W = np.random.uniform(-np.sqrt(1./hidden_size), np.sqrt(1./hidden_size), (hidden_size, hidden_size))\n",
    "        self.b = np.zeros((hidden_size, 1))\n",
    "        self.c = np.zeros((vocab_size, 1))\n",
    "\n",
    "    def forward(self, inputs, hprev):\n",
    "        xs, hs, os, ycap = {}, {}, {}, {}\n",
    "        hs[-1] = np.copy(hprev)\n",
    "        for t in range(len(inputs)):\n",
    "            xs[t] = zero_init(self.vocab_size, 1)\n",
    "            xs[t][inputs[t]] = 1\n",
    "            hs[t] = np.tanh(np.dot(self.&, xs[t]) + np.dot(self.W, hs[t-1]) + self.b)\n",
    "            os[t] = np.dot(self.V, hs[t]) + self.c\n",
    "            ycap[t] = self.softmax(os[t])\n",
    "        return xs, hs, ycap\n",
    "\n",
    "    def loss(self, ps, targets):\n",
    "        \"\"\" loss for a sequence\"\"\"\n",
    "        return sum(-np.log(ps[t][targets[t], 0]) for t in range(self.seq_length))\n",
    "\n",
    "    def backward(self, xs, hs, ycap, targets):\n",
    "        dU, dW, dV = np.zeros_like(self,U), np.zeros_like(self.W), np.zeros_like(self.V)\n",
    "        db, dc = np.zeros_like(self.b), np.zeros_like(self.c)\n",
    "        dhnext = np.zeros_like(hs[0])\n",
    "\n",
    "        for t in reversed(range(self.seq_length)):\n",
    "            # start with output\n",
    "            dy = np.copy(ycap[t])\n",
    "            # gradient through softmax\n",
    "            dy[targets[t]] -= 1\n",
    "            # dv and dc\n",
    "            dV += np.dot(dy, hs[t].T)\n",
    "            dc += dc\n",
    "            # dh has two components, gradient flowing from output and from next cell\n",
    "            dh = np.dot(self.V.T, dy) + dhnext\n",
    "            # dhrec is the recurring component seen in most of the calculations\n",
    "            dhrec = (1-hs[t] * hs[t]) * dh\n",
    "            db += dhrec\n",
    "            # dU and dW\n",
    "            dU += np.dot(dhrec, xs[t].T)\n",
    "            dW += np.dot(dhrec, hs[t-1].T)\n",
    "            # pass the gradient from next cell fro next iteration\n",
    "            dhnext = np.dot(self.W.T, dhrec)\n",
    "        # To mitigate gradient explosion, clip the gradients.\n",
    "        for dparam in [dU, dW, dV, db, dc]:\n",
    "            np.clip(dparam, -5, 5, out = dparam)\n",
    "        return dU, dW, dV, db, dc\n",
    "\n",
    "    def update_model(self, dU, dW, dV, db, dc):\n",
    "        for param, dparam in zip([self.U, self.W, self.V, self.b, self.c],\n",
    "                                 [dU, dW, dV, db, dc]):\n",
    "            param += -self.learning_rate * dparam\n",
    "\n",
    "    def predict(self, data_reader, start, n):\n",
    "        # initialize input vector\n",
    "        x = zero_init(self.vocab_size, 1)\n",
    "        chars = [ch for ch in start]\n",
    "        ixes = []\n",
    "        for i in range(len(chars)):\n",
    "            ix = data_reader.char_to_ix[chars[i]]\n",
    "            x[ix] = 1\n",
    "            ixes.append(ix)\n",
    "\n",
    "        h = np.zeros((self.hidden_size, 1))\n",
    "        #predict next n chars\n",
    "        for t in range(n):\n",
    "            h = np.tanh(np.dot(self.U, x) + np.dot(self.W, h) + self.b)\n",
    "            y = np.dot(self.V, h) + self.c\n",
    "            p = np.exp(y) / np.sum(np.exp(y))\n",
    "            ix = np.random.choice(range(self.vocab_size), p = p.ravel())\n",
    "            x = zero_init(self.vocab_size, 1)\n",
    "            x[ix] = 1\n",
    "            ixes.append(ix)\n",
    "\n",
    "        txt = \"\".join(data_reader.ix_to_char[i] for i in ixes)\n",
    "        return txt"
   ]
  },
  {
   "cell_type": "code",
   "execution_count": null,
   "id": "1645afa8-73c4-4bd9-808c-906f3c64cce5",
   "metadata": {},
   "outputs": [],
   "source": [
    "    def softmax(x):\n",
    "        exps = np.exp(x)\n",
    "        return exps / np.sum(exps)"
   ]
  },
  {
   "cell_type": "code",
   "execution_count": null,
   "id": "4875b64a-9091-4743-931a-6542e4059ae7",
   "metadata": {},
   "outputs": [],
   "source": []
  },
  {
   "cell_type": "code",
   "execution_count": null,
   "id": "7b9ace22-ea97-4bbc-b73f-92def1872253",
   "metadata": {},
   "outputs": [],
   "source": []
  },
  {
   "cell_type": "code",
   "execution_count": null,
   "id": "204dcdf7-7b69-4650-b28b-aa769a03f38c",
   "metadata": {},
   "outputs": [],
   "source": []
  },
  {
   "cell_type": "code",
   "execution_count": null,
   "id": "361bcb7d-9fbf-46c2-9914-582c66c1b26d",
   "metadata": {},
   "outputs": [],
   "source": []
  },
  {
   "cell_type": "code",
   "execution_count": null,
   "id": "d853931d-120c-4e9b-aa6a-081fc8abf109",
   "metadata": {},
   "outputs": [],
   "source": []
  },
  {
   "cell_type": "code",
   "execution_count": null,
   "id": "ce948c78-da98-4f70-a0ee-48b034a012c3",
   "metadata": {},
   "outputs": [],
   "source": []
  },
  {
   "cell_type": "code",
   "execution_count": null,
   "id": "18b5dacb-308a-4ecf-9b1a-84a7b6861825",
   "metadata": {},
   "outputs": [],
   "source": []
  },
  {
   "cell_type": "code",
   "execution_count": null,
   "id": "79f5aaa5-72f4-436f-ae63-5ba2b2f9f8ba",
   "metadata": {},
   "outputs": [],
   "source": []
  },
  {
   "cell_type": "code",
   "execution_count": null,
   "id": "e5336add-1336-4dac-8377-f82dd314cace",
   "metadata": {},
   "outputs": [],
   "source": []
  },
  {
   "cell_type": "code",
   "execution_count": null,
   "id": "4d7ee4ef-f042-4293-9376-b93c6b4da3f7",
   "metadata": {},
   "outputs": [],
   "source": []
  },
  {
   "cell_type": "code",
   "execution_count": null,
   "id": "93b7243a-9eda-4633-b7de-5d2c83ce45a3",
   "metadata": {},
   "outputs": [],
   "source": []
  },
  {
   "cell_type": "code",
   "execution_count": null,
   "id": "2d12287e-e995-494b-9d2b-1ad18e020ec6",
   "metadata": {},
   "outputs": [],
   "source": []
  },
  {
   "cell_type": "code",
   "execution_count": null,
   "id": "505d840b-dbaa-4916-a8f6-49e6d78cfb98",
   "metadata": {},
   "outputs": [],
   "source": []
  },
  {
   "cell_type": "code",
   "execution_count": null,
   "id": "d4f8670f-5fb3-497d-ac1b-c7a0567c8ab9",
   "metadata": {},
   "outputs": [],
   "source": []
  },
  {
   "cell_type": "code",
   "execution_count": null,
   "id": "bc0b1467-e775-42d0-a65e-442cd1effc15",
   "metadata": {},
   "outputs": [],
   "source": []
  },
  {
   "cell_type": "code",
   "execution_count": null,
   "id": "539e79b3-d9b2-4abe-b3b3-0d0b686b5013",
   "metadata": {},
   "outputs": [],
   "source": []
  },
  {
   "cell_type": "code",
   "execution_count": null,
   "id": "3640bc52-1644-475b-8f0b-f472bbe363f3",
   "metadata": {},
   "outputs": [],
   "source": []
  },
  {
   "cell_type": "code",
   "execution_count": null,
   "id": "2a27fdaf-dc0b-4c21-afcc-ba051bdad806",
   "metadata": {},
   "outputs": [],
   "source": []
  },
  {
   "cell_type": "code",
   "execution_count": null,
   "id": "f6af9660-5033-4f1d-91d1-853fb4dd4006",
   "metadata": {},
   "outputs": [],
   "source": []
  }
 ],
 "metadata": {
  "kernelspec": {
   "display_name": "Python 3 (ipykernel)",
   "language": "python",
   "name": "python3"
  },
  "language_info": {
   "codemirror_mode": {
    "name": "ipython",
    "version": 3
   },
   "file_extension": ".py",
   "mimetype": "text/x-python",
   "name": "python",
   "nbconvert_exporter": "python",
   "pygments_lexer": "ipython3",
   "version": "3.12.4"
  }
 },
 "nbformat": 4,
 "nbformat_minor": 5
}
