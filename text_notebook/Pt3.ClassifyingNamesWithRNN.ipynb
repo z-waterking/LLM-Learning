{
 "cells": [
  {
   "cell_type": "code",
   "execution_count": 3,
   "id": "decd546f-8d53-4553-a568-bfc415a2ba9c",
   "metadata": {},
   "outputs": [
    {
     "name": "stdout",
     "output_type": "stream",
     "text": [
      "['data/names\\\\Arabic.txt', 'data/names\\\\Chinese.txt', 'data/names\\\\Czech.txt', 'data/names\\\\Dutch.txt', 'data/names\\\\English.txt', 'data/names\\\\French.txt', 'data/names\\\\German.txt', 'data/names\\\\Greek.txt', 'data/names\\\\Irish.txt', 'data/names\\\\Italian.txt', 'data/names\\\\Japanese.txt', 'data/names\\\\Korean.txt', 'data/names\\\\Polish.txt', 'data/names\\\\Portuguese.txt', 'data/names\\\\Russian.txt', 'data/names\\\\Scottish.txt', 'data/names\\\\Spanish.txt', 'data/names\\\\Vietnamese.txt']\n",
      "Slusarski\n"
     ]
    }
   ],
   "source": [
    "from io import open\n",
    "import glob\n",
    "import os\n",
    "\n",
    "def findFiles(path): return glob.glob(path)\n",
    "\n",
    "print(findFiles('data/names/*.txt'))\n",
    "\n",
    "import unicodedata\n",
    "import string\n",
    "\n",
    "all_letters = string.ascii_letters + \" .,;'\"\n",
    "n_letters = len(all_letters)\n",
    "\n",
    "# Turn a Unicode string to plain ASCII, thanks to https://stackoverflow.com/a/518232/2809427\n",
    "def unicodeToAscii(s):\n",
    "    return ''.join(\n",
    "        c for c in unicodedata.normalize('NFD', s)\n",
    "        if unicodedata.category(c) != 'Mn'\n",
    "        and c in all_letters\n",
    "    )\n",
    "\n",
    "print(unicodeToAscii('Ślusàrski'))\n",
    "\n",
    "# Build the category_lines dictionary, a list of names per language\n",
    "category_lines = {}\n",
    "all_categories = []\n",
    "\n",
    "def readLines(filename):\n",
    "    lines = open(filename, encoding='utf-8').read().strip().split('\\n')\n",
    "    return [unicodeToAscii(line) for line in lines]\n",
    "\n",
    "for filename in findFiles('data/names/*.txt'):\n",
    "    category = os.path.splitext(os.path.basename(filename))[0]\n",
    "    all_categories.append(category)\n",
    "    lines = readLines(filename)\n",
    "    category_lines[category] = lines\n",
    "\n",
    "n_categories = len(all_categories)"
   ]
  },
  {
   "cell_type": "code",
   "execution_count": 5,
   "id": "8706d75c-0fd4-4818-a898-9bc1faf7cd71",
   "metadata": {},
   "outputs": [
    {
     "name": "stdout",
     "output_type": "stream",
     "text": [
      "['Abandonato', 'Abatangelo', 'Abatantuono', 'Abate', 'Abategiovanni']\n"
     ]
    }
   ],
   "source": [
    "print(category_lines['Italian'][:5])"
   ]
  },
  {
   "cell_type": "code",
   "execution_count": 7,
   "id": "8e36e479-4a96-48a2-a6cb-061d44681cd1",
   "metadata": {},
   "outputs": [
    {
     "name": "stdout",
     "output_type": "stream",
     "text": [
      "tensor([[0., 0., 0., 0., 0., 0., 0., 0., 0., 0., 0., 0., 0., 0., 0., 0., 0., 0.,\n",
      "         0., 0., 0., 0., 0., 0., 0., 0., 0., 0., 0., 0., 0., 0., 0., 0., 0., 1.,\n",
      "         0., 0., 0., 0., 0., 0., 0., 0., 0., 0., 0., 0., 0., 0., 0., 0., 0., 0.,\n",
      "         0., 0., 0.]])\n",
      "torch.Size([5, 1, 57])\n"
     ]
    }
   ],
   "source": [
    "import torch\n",
    "\n",
    "def letterToIndex(letter):\n",
    "    return all_letters.find(letter)\n",
    "\n",
    "def letterToTensor(letter):\n",
    "    tensor = torch.zeros(1, n_letters)\n",
    "    tensor[0][letterToIndex(letter)] = 1\n",
    "    return tensor\n",
    "\n",
    "def lineToTensor(line):\n",
    "    tensor = torch.zeros(len(line), 1, n_letters)\n",
    "    for li, letter in enumerate(line):\n",
    "        tensor[li][0][letterToIndex(letter)] = 1\n",
    "    return tensor\n",
    "\n",
    "print(letterToTensor('J'))\n",
    "print(lineToTensor('Jones').size())"
   ]
  },
  {
   "cell_type": "code",
   "execution_count": 11,
   "id": "77589808-95eb-48dd-8656-90ed5d182d84",
   "metadata": {},
   "outputs": [],
   "source": [
    "# Creating network\n",
    "\n",
    "import torch.nn as nn\n",
    "import torch.nn.functional as F\n",
    "\n",
    "class RNN(nn.Module):\n",
    "    def __init__(self, input_size, hidden_size, output_size):\n",
    "        super(RNN, self).__init__()\n",
    "\n",
    "        self.hidden_size = hidden_size\n",
    "\n",
    "        self.i2h = nn.Linear(input_size, hidden_size)\n",
    "        self.h2h = nn.Linear(hidden_size, hidden_size)\n",
    "        self.h2o = nn.Linear(hidden_size, output_size)\n",
    "        self.softmax = nn.LogSoftmax(dim=1)\n",
    "\n",
    "    def forward(self, input, hidden):\n",
    "        hidden = F.tanh(self.i2h(input) + self.h2h(hidden))\n",
    "        output = self.h2o(hidden)\n",
    "        output = self.softmax(output)\n",
    "        return output, hidden\n",
    "\n",
    "    def initHidden(self):\n",
    "        return torch.zeros(1, self.hidden_size)\n",
    "\n",
    "n_hidden = 128\n",
    "rnn = RNN(n_letters, n_hidden, n_categories)"
   ]
  },
  {
   "cell_type": "code",
   "execution_count": 21,
   "id": "c9552b93-c6d9-48f5-91ee-9a22df95441c",
   "metadata": {},
   "outputs": [
    {
     "name": "stdout",
     "output_type": "stream",
     "text": [
      "tensor([[0., 0., 0., 0., 0., 0., 0., 0., 0., 0., 0., 0., 0., 0., 0., 0., 0., 0.,\n",
      "         0., 0., 0., 0., 0., 0., 0., 0., 1., 0., 0., 0., 0., 0., 0., 0., 0., 0.,\n",
      "         0., 0., 0., 0., 0., 0., 0., 0., 0., 0., 0., 0., 0., 0., 0., 0., 0., 0.,\n",
      "         0., 0., 0.]])\n",
      "tensor([[0., 0., 0., 0., 0., 0., 0., 0., 0., 0., 0., 0., 0., 0., 0., 0., 0., 0., 0., 0., 0., 0., 0., 0.,\n",
      "         0., 0., 0., 0., 0., 0., 0., 0., 0., 0., 0., 0., 0., 0., 0., 0., 0., 0., 0., 0., 0., 0., 0., 0.,\n",
      "         0., 0., 0., 0., 0., 0., 0., 0., 0., 0., 0., 0., 0., 0., 0., 0., 0., 0., 0., 0., 0., 0., 0., 0.,\n",
      "         0., 0., 0., 0., 0., 0., 0., 0., 0., 0., 0., 0., 0., 0., 0., 0., 0., 0., 0., 0., 0., 0., 0., 0.,\n",
      "         0., 0., 0., 0., 0., 0., 0., 0., 0., 0., 0., 0., 0., 0., 0., 0., 0., 0., 0., 0., 0., 0., 0., 0.,\n",
      "         0., 0., 0., 0., 0., 0., 0., 0.]])\n",
      "tensor([[-2.7309, -2.9516, -2.9995, -2.9619, -2.7399, -2.9236, -2.7712, -2.7310,\n",
      "         -2.9764, -3.1403, -2.9191, -2.9572, -2.9859, -2.8388, -2.8185, -2.9510,\n",
      "         -2.9149, -2.8197]], grad_fn=<LogSoftmaxBackward0>) tensor([[ 0.1519, -0.0201, -0.2532, -0.1518, -0.1483, -0.0498, -0.1006, -0.0301,\n",
      "         -0.0802,  0.0817,  0.0504,  0.0332, -0.2593, -0.1501,  0.1559, -0.0770,\n",
      "          0.1041, -0.1296,  0.0599,  0.1233,  0.0073,  0.0929,  0.0103,  0.0415,\n",
      "          0.0645, -0.0225, -0.0248,  0.0012,  0.1475,  0.0076, -0.0849,  0.1133,\n",
      "          0.1745,  0.1930, -0.0702,  0.2080,  0.0863,  0.0356,  0.1960,  0.0441,\n",
      "          0.1651, -0.0833, -0.0584, -0.1135,  0.0511, -0.1075,  0.0329, -0.0782,\n",
      "          0.0345,  0.2680,  0.1106, -0.1293, -0.0460, -0.0686, -0.2158, -0.1051,\n",
      "          0.0156,  0.2142, -0.0723, -0.0973,  0.0795,  0.0701, -0.1416,  0.0582,\n",
      "          0.2210,  0.2234, -0.2118,  0.0967, -0.1143,  0.1016,  0.0640, -0.0856,\n",
      "         -0.0208, -0.0462, -0.0135, -0.0808,  0.1124,  0.0242, -0.0261, -0.1192,\n",
      "         -0.0752, -0.0814, -0.1991,  0.1669,  0.0108, -0.0866, -0.0886, -0.1456,\n",
      "         -0.0156,  0.0300, -0.0036, -0.0031,  0.1230,  0.1202, -0.0802, -0.0108,\n",
      "         -0.1733, -0.1086, -0.0605, -0.0314,  0.1100, -0.1553,  0.1658, -0.1651,\n",
      "         -0.0653, -0.0072, -0.0315, -0.1835,  0.2240, -0.0354,  0.1040, -0.1180,\n",
      "         -0.1186,  0.2422, -0.1448,  0.0590, -0.2997, -0.1431,  0.0516, -0.1296,\n",
      "         -0.0508,  0.0471, -0.1048,  0.0910,  0.0747,  0.0074,  0.0382, -0.0356]],\n",
      "       grad_fn=<TanhBackward0>)\n"
     ]
    }
   ],
   "source": [
    "input = letterToTensor('A')\n",
    "print(input)\n",
    "hidden = torch.zeros(1, n_hidden)\n",
    "print(hidden)\n",
    "output, next_hidden = rnn(input, hidden)\n",
    "print(output, next_hidden)"
   ]
  },
  {
   "cell_type": "code",
   "execution_count": 35,
   "id": "8c351d7c-f922-4afc-a0c8-778727591a08",
   "metadata": {},
   "outputs": [
    {
     "name": "stdout",
     "output_type": "stream",
     "text": [
      "tensor([[-2.7309]], grad_fn=<TopkBackward0>)\n",
      "tensor([[0]])\n"
     ]
    }
   ],
   "source": [
    "top_n, top_i = output.topk(1)\n",
    "print(top_n)\n",
    "print(top_i)"
   ]
  },
  {
   "cell_type": "code",
   "execution_count": 25,
   "id": "24009308-69bc-465b-961f-32834515fc83",
   "metadata": {},
   "outputs": [
    {
     "name": "stdout",
     "output_type": "stream",
     "text": [
      "('Arabic', 0)\n"
     ]
    }
   ],
   "source": [
    "def categoryFromOutput(output):\n",
    "    top_n, top_i = output.topk(1)\n",
    "    category_i = top_i[0].item()\n",
    "    return all_categories[category_i], category_i\n",
    "\n",
    "print(categoryFromOutput(output))"
   ]
  },
  {
   "cell_type": "code",
   "execution_count": 41,
   "id": "e35e7102-6531-4a62-a341-12bc3d43ff79",
   "metadata": {},
   "outputs": [
    {
     "name": "stdout",
     "output_type": "stream",
     "text": [
      "category = Polish / line = Kaczka\n",
      "category = Portuguese / line = Simoes\n",
      "category = Russian / line = Novoselov\n",
      "category = Arabic / line = Morcos\n",
      "category = Scottish / line = Black\n",
      "category = Vietnamese / line = Truong\n",
      "category = Arabic / line = Ganem\n",
      "category = English / line = Kilburn\n",
      "category = Irish / line = Molloy\n",
      "category = Chinese / line = Hiu\n"
     ]
    }
   ],
   "source": [
    "import random\n",
    "\n",
    "def randomChoice(l):\n",
    "    return l[random.randint(0, len(l) - 1)]\n",
    "\n",
    "def randomTrainingExample():\n",
    "    category = randomChoice(all_categories)\n",
    "    line = randomChoice(category_lines[category])\n",
    "    category_tensor = torch.tensor([all_categories.index(category)], dtype=torch.long)\n",
    "    line_tensor = lineToTensor(line)\n",
    "    return category, line, category_tensor, line_tensor\n",
    "\n",
    "for i in range(10):\n",
    "    category, line, category_tensor, line_tensor = randomTrainingExample()\n",
    "    print('category =', category, '/ line =', line)"
   ]
  },
  {
   "cell_type": "code",
   "execution_count": 57,
   "id": "ccc64267-dc32-4a25-a79d-1b35e201b224",
   "metadata": {},
   "outputs": [],
   "source": [
    "category = randomChoice(all_categories)\n",
    "line = randomChoice(category_lines['Arabic'])\n",
    "category_tensor = torch.tensor([all_categories.index(category)], dtype=torch.long)\n",
    "line_tensor = lineToTensor(line)"
   ]
  },
  {
   "cell_type": "code",
   "execution_count": 86,
   "id": "dbf3be56-df5c-4139-be0e-13eb77a0c63e",
   "metadata": {},
   "outputs": [],
   "source": [
    "criterion = nn.NLLLoss()"
   ]
  },
  {
   "cell_type": "markdown",
   "id": "d5d178e6-8141-46fe-bdf6-96ed534233ab",
   "metadata": {},
   "source": [
    "Each loop of training will:\n",
    "\n",
    "Create input and target tensors\n",
    "\n",
    "Create a zeroed initial hidden state\n",
    "\n",
    "Read each letter in and\n",
    "\n",
    "Keep hidden state for next letter\n",
    "\n",
    "Compare final output to target\n",
    "\n",
    "Back-propagate\n",
    "\n",
    "Return the output and loss"
   ]
  },
  {
   "cell_type": "code",
   "execution_count": 68,
   "id": "dd55c603-e7eb-4a90-b8b8-f8cb93a94a93",
   "metadata": {},
   "outputs": [],
   "source": [
    "learning_rate = 0.005\n",
    "\n",
    "def train(category_tensor, line_tensor):\n",
    "    hidden = rnn.initHidden()\n",
    "    rnn.zero_grad()\n",
    "    for i in range(line_tensor.size()[0]):\n",
    "        output, hidden = rnn(line_tensor[i], hidden)\n",
    "    loss = criterion(output, category_tensor)\n",
    "    loss.backward()\n",
    "\n",
    "    for p in rnn.parameters():\n",
    "        p.data.add_(p.grad.data, alpha=-learning_rate)\n",
    "    return output, loss.item()"
   ]
  },
  {
   "cell_type": "code",
   "execution_count": 80,
   "id": "c6a2251e-0199-47a9-9066-cb0b55f95974",
   "metadata": {},
   "outputs": [
    {
     "name": "stdout",
     "output_type": "stream",
     "text": [
      "torch.Size([1]) torch.Size([6, 1, 57])\n",
      "torch.Size([1, 18])\n"
     ]
    }
   ],
   "source": [
    "print(category_tensor.shape, line_tensor.shape)\n",
    "hidden = rnn.initHidden()\n",
    "rnn.zero_grad()\n",
    "for i in range(line_tensor.size()[0]):\n",
    "    output, hidden = rnn(line_tensor[i], hidden)\n",
    "    # print(i, \"output\", output, \"hidden\", hidden)\n",
    "print(output.shape)"
   ]
  },
  {
   "cell_type": "code",
   "execution_count": 90,
   "id": "35e648f9-be4f-4ff3-82f1-b33117814dc3",
   "metadata": {},
   "outputs": [
    {
     "name": "stdout",
     "output_type": "stream",
     "text": [
      "5000 5% (0m 14s) 1.6410 Lehrer / German ✓\n",
      "10000 10% (0m 27s) 0.8725 Slusarski / Polish ✓\n",
      "15000 15% (0m 42s) 1.7709 Mateus / French ✗ (Portuguese)\n",
      "20000 20% (0m 55s) 0.3607 Kanaan / Arabic ✓\n",
      "25000 25% (1m 8s) 1.3115 Handal / Arabic ✓\n",
      "30000 30% (1m 20s) 0.4391 Dobryshin / Russian ✓\n",
      "35000 35% (1m 36s) 0.9687 Chan / Chinese ✓\n",
      "40000 40% (1m 50s) 0.1958 Mckay / Scottish ✓\n",
      "45000 45% (2m 3s) 0.0060 Koulaxizis / Greek ✓\n",
      "50000 50% (2m 16s) 0.8481 Havlatova / Czech ✓\n",
      "55000 55% (2m 29s) 0.0132 Shamakhov / Russian ✓\n",
      "60000 60% (2m 41s) 1.8169 Bosch / Czech ✗ (German)\n",
      "65000 65% (2m 54s) 0.1667 Slusarczyk / Polish ✓\n",
      "70000 70% (3m 6s) 0.2924 Agudoff / Russian ✓\n",
      "75000 75% (3m 18s) 0.8237 Samson / Dutch ✓\n",
      "80000 80% (3m 30s) 0.2145 Mcintosh / Scottish ✓\n",
      "85000 85% (3m 42s) 0.5341 Geissler / German ✓\n",
      "90000 90% (3m 54s) 4.8681 Hrdy / Scottish ✗ (Czech)\n",
      "95000 95% (4m 6s) 2.4772 Navara / Japanese ✗ (Czech)\n",
      "100000 100% (4m 19s) 0.1970 Ramecker / Dutch ✓\n"
     ]
    }
   ],
   "source": [
    "import time\n",
    "import math\n",
    "n_iters = 100000\n",
    "print_every = 5000\n",
    "plot_every = 1000\n",
    "\n",
    "current_loss = 0\n",
    "all_losses = []\n",
    "\n",
    "def timeSince(since):\n",
    "    now = time.time()\n",
    "    s = now - since\n",
    "    m = math.floor(s / 60)\n",
    "    s -= m * 60\n",
    "    return '%dm %ds' % (m, s)\n",
    "\n",
    "start = time.time()\n",
    "\n",
    "for iter in range(1, n_iters + 1):\n",
    "    category, line, category_tensor, line_tensor = randomTrainingExample()\n",
    "    output, loss = train(category_tensor, line_tensor)\n",
    "    current_loss += loss\n",
    "\n",
    "    # Print ``iter`` number, loss, name and guess\n",
    "    if iter % print_every == 0:\n",
    "        guess, guess_i = categoryFromOutput(output)\n",
    "        correct = '✓' if guess == category else '✗ (%s)' % category\n",
    "        print('%d %d%% (%s) %.4f %s / %s %s' % (iter, iter / n_iters * 100, timeSince(start), loss, line, guess, correct))\n",
    "\n",
    "    # Add current loss avg to list of losses\n",
    "    if iter % plot_every == 0:\n",
    "        all_losses.append(current_loss / plot_every)\n",
    "        current_loss = 0"
   ]
  },
  {
   "cell_type": "code",
   "execution_count": 91,
   "id": "354e26a1-ab23-4638-a704-c85310d5d995",
   "metadata": {},
   "outputs": [
    {
     "data": {
      "text/plain": [
       "[<matplotlib.lines.Line2D at 0x241bc31f2f0>]"
      ]
     },
     "execution_count": 91,
     "metadata": {},
     "output_type": "execute_result"
    },
    {
     "data": {
      "image/png": "[encoded data removed]",
      "text/plain": [
       "<Figure size 640x480 with 1 Axes>"
      ]
     },
     "metadata": {},
     "output_type": "display_data"
    }
   ],
   "source": [
    "import matplotlib.pyplot as plt\n",
    "import matplotlib.ticker as ticker\n",
    "\n",
    "plt.figure()\n",
    "plt.plot(all_losses)"
   ]
  },
  {
   "cell_type": "code",
   "execution_count": 92,
   "id": "036fe16b-8e9f-47b8-b572-021263440ecb",
   "metadata": {},
   "outputs": [
    {
     "name": "stderr",
     "output_type": "stream",
     "text": [
      "C:\\Users\\sifanzhang\\AppData\\Local\\Temp\\ipykernel_26864\\3585656379.py:33: UserWarning: set_ticklabels() should only be used with a fixed number of ticks, i.e. after set_ticks() or using a FixedLocator.\n",
      "  ax.set_xticklabels([''] + all_categories, rotation=90)\n",
      "C:\\Users\\sifanzhang\\AppData\\Local\\Temp\\ipykernel_26864\\3585656379.py:34: UserWarning: set_ticklabels() should only be used with a fixed number of ticks, i.e. after set_ticks() or using a FixedLocator.\n",
      "  ax.set_yticklabels([''] + all_categories)\n"
     ]
    },
    {
     "data": {
      "image/png": "[encoded data removed]",
      "text/plain": [
       "<Figure size 640x480 with 2 Axes>"
      ]
     },
     "metadata": {},
     "output_type": "display_data"
    }
   ],
   "source": [
    "# Keep track of correct guesses in a confusion matrix\n",
    "confusion = torch.zeros(n_categories, n_categories)\n",
    "n_confusion = 10000\n",
    "\n",
    "# Just return an output given a line\n",
    "def evaluate(line_tensor):\n",
    "    hidden = rnn.initHidden()\n",
    "\n",
    "    for i in range(line_tensor.size()[0]):\n",
    "        output, hidden = rnn(line_tensor[i], hidden)\n",
    "\n",
    "    return output\n",
    "\n",
    "# Go through a bunch of examples and record which are correctly guessed\n",
    "for i in range(n_confusion):\n",
    "    category, line, category_tensor, line_tensor = randomTrainingExample()\n",
    "    output = evaluate(line_tensor)\n",
    "    guess, guess_i = categoryFromOutput(output)\n",
    "    category_i = all_categories.index(category)\n",
    "    confusion[category_i][guess_i] += 1\n",
    "\n",
    "# Normalize by dividing every row by its sum\n",
    "for i in range(n_categories):\n",
    "    confusion[i] = confusion[i] / confusion[i].sum()\n",
    "\n",
    "# Set up plot\n",
    "fig = plt.figure()\n",
    "ax = fig.add_subplot(111)\n",
    "cax = ax.matshow(confusion.numpy())\n",
    "fig.colorbar(cax)\n",
    "\n",
    "# Set up axes\n",
    "ax.set_xticklabels([''] + all_categories, rotation=90)\n",
    "ax.set_yticklabels([''] + all_categories)\n",
    "\n",
    "# Force label at every tick\n",
    "ax.xaxis.set_major_locator(ticker.MultipleLocator(1))\n",
    "ax.yaxis.set_major_locator(ticker.MultipleLocator(1))\n",
    "\n",
    "# sphinx_gallery_thumbnail_number = 2\n",
    "plt.show()"
   ]
  },
  {
   "cell_type": "code",
   "execution_count": 93,
   "id": "4646a17b-4732-4333-aa90-f199d02c9811",
   "metadata": {},
   "outputs": [
    {
     "name": "stdout",
     "output_type": "stream",
     "text": [
      "\n",
      "> Dovesky\n",
      "(-0.18) Russian\n",
      "(-2.11) Czech\n",
      "(-3.57) English\n",
      "\n",
      "> Jackson\n",
      "(-0.03) Scottish\n",
      "(-3.80) English\n",
      "(-5.23) French\n",
      "\n",
      "> Satoshi\n",
      "(-0.61) Italian\n",
      "(-1.34) Arabic\n",
      "(-1.86) Japanese\n"
     ]
    }
   ],
   "source": [
    "def predict(input_line, n_predictions=3):\n",
    "    print('\\n> %s' % input_line)\n",
    "    with torch.no_grad():\n",
    "        output = evaluate(lineToTensor(input_line))\n",
    "\n",
    "        # Get top N categories\n",
    "        topv, topi = output.topk(n_predictions, 1, True)\n",
    "        predictions = []\n",
    "\n",
    "        for i in range(n_predictions):\n",
    "            value = topv[0][i].item()\n",
    "            category_index = topi[0][i].item()\n",
    "            print('(%.2f) %s' % (value, all_categories[category_index]))\n",
    "            predictions.append([value, all_categories[category_index]])\n",
    "\n",
    "predict('Dovesky')\n",
    "predict('Jackson')\n",
    "predict('Satoshi')"
   ]
  },
  {
   "cell_type": "code",
   "execution_count": null,
   "id": "39f97f56-e9d3-4b66-ba5f-8d45861110d6",
   "metadata": {},
   "outputs": [],
   "source": []
  }
 ],
 "metadata": {
  "kernelspec": {
   "display_name": "Python 3 (ipykernel)",
   "language": "python",
   "name": "python3"
  },
  "language_info": {
   "codemirror_mode": {
    "name": "ipython",
    "version": 3
   },
   "file_extension": ".py",
   "mimetype": "text/x-python",
   "name": "python",
   "nbconvert_exporter": "python",
   "pygments_lexer": "ipython3",
   "version": "3.12.4"
  }
 },
 "nbformat": 4,
 "nbformat_minor": 5
}
