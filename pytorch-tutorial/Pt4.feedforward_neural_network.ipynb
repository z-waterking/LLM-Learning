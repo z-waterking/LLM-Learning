{
 "cells": [
  {
   "cell_type": "code",
   "execution_count": 1,
   "id": "fac496dc-1c03-4316-96a7-6a04095b582e",
   "metadata": {},
   "outputs": [],
   "source": [
    "import torch\n",
    "import torch.nn as nn\n",
    "import torchvision\n",
    "import torchvision.transforms as transforms\n",
    "\n",
    "\n",
    "# Device configuration\n",
    "device = torch.device('cuda' if torch.cuda.is_available() else 'cpu')\n",
    "\n",
    "# Hyper-parameters \n",
    "input_size = 784\n",
    "hidden_size = 500\n",
    "num_classes = 10\n",
    "num_epochs = 5\n",
    "batch_size = 100\n",
    "learning_rate = 0.001\n",
    "\n",
    "# MNIST dataset \n",
    "train_dataset = torchvision.datasets.MNIST(root='/data', \n",
    "                                           train=True, \n",
    "                                           transform=transforms.ToTensor(),  \n",
    "                                           download=True)\n",
    "\n",
    "test_dataset = torchvision.datasets.MNIST(root='/data', \n",
    "                                          train=False, \n",
    "                                          transform=transforms.ToTensor())\n",
    "\n",
    "# Data loader\n",
    "train_loader = torch.utils.data.DataLoader(dataset=train_dataset, \n",
    "                                           batch_size=batch_size, \n",
    "                                           shuffle=True)\n",
    "\n",
    "test_loader = torch.utils.data.DataLoader(dataset=test_dataset, \n",
    "                                          batch_size=batch_size, \n",
    "                                          shuffle=False)"
   ]
  },
  {
   "cell_type": "code",
   "execution_count": 7,
   "id": "5efa9ac5-dc89-41f9-95d6-eede6cf3db6b",
   "metadata": {},
   "outputs": [],
   "source": [
    "class NeuralNet(nn.Module):\n",
    "    def __init__(self, input_size, hidden_size, num_classes):\n",
    "        super(NeuralNet, self).__init__()\n",
    "        self.fc1 = nn.Linear(input_size, hidden_size)\n",
    "        self.relu = nn.ReLU()\n",
    "        self.fc2 = nn.Linear(hidden_size, num_classes)\n",
    "\n",
    "    def forward(self, x):\n",
    "        out = self.fc1(x)\n",
    "        out = self.relu(out)\n",
    "        out = self.fc2(out)\n",
    "        return out"
   ]
  },
  {
   "cell_type": "code",
   "execution_count": 11,
   "id": "e9145298-5fc0-49f5-bdeb-39cf9a7df7e3",
   "metadata": {},
   "outputs": [],
   "source": [
    "model = NeuralNet(input_size, hidden_size, num_classes).to(device)\n",
    "# Loss and optimizer\n",
    "criterion = nn.CrossEntropyLoss()\n",
    "optimizer = torch.optim.Adam(model.parameters(), lr=learning_rate)  \n"
   ]
  },
  {
   "cell_type": "code",
   "execution_count": 19,
   "id": "00bbd018-976a-43c5-bb74-13307dbc7a0d",
   "metadata": {},
   "outputs": [
    {
     "name": "stdout",
     "output_type": "stream",
     "text": [
      "torch.Size([100, 1, 28, 28])\n",
      "torch.Size([100, 784])\n",
      "torch.Size([100])\n"
     ]
    }
   ],
   "source": [
    "for i, (images, labels) in enumerate(train_loader): \n",
    "    break\n",
    "print(images.shape)\n",
    "images = images.reshape(-1, 28*28).to(device)\n",
    "labels = labels.to(device)\n",
    "print(images.shape)\n",
    "print(labels.shape)"
   ]
  },
  {
   "cell_type": "code",
   "execution_count": 15,
   "id": "ffe9380f-0045-4724-bc46-9f7716f5f1ef",
   "metadata": {},
   "outputs": [
    {
     "name": "stdout",
     "output_type": "stream",
     "text": [
      "Epoch [1/5], Step [100/600], Loss: 0.2345\n",
      "Epoch [1/5], Step [200/600], Loss: 0.2572\n",
      "Epoch [1/5], Step [300/600], Loss: 0.2693\n",
      "Epoch [1/5], Step [400/600], Loss: 0.2125\n",
      "Epoch [1/5], Step [500/600], Loss: 0.2150\n",
      "Epoch [1/5], Step [600/600], Loss: 0.1286\n",
      "Epoch [2/5], Step [100/600], Loss: 0.1759\n",
      "Epoch [2/5], Step [200/600], Loss: 0.1288\n",
      "Epoch [2/5], Step [300/600], Loss: 0.0550\n",
      "Epoch [2/5], Step [400/600], Loss: 0.1093\n",
      "Epoch [2/5], Step [500/600], Loss: 0.1981\n",
      "Epoch [2/5], Step [600/600], Loss: 0.0675\n",
      "Epoch [3/5], Step [100/600], Loss: 0.0563\n",
      "Epoch [3/5], Step [200/600], Loss: 0.1377\n",
      "Epoch [3/5], Step [300/600], Loss: 0.1005\n",
      "Epoch [3/5], Step [400/600], Loss: 0.0260\n",
      "Epoch [3/5], Step [500/600], Loss: 0.1195\n",
      "Epoch [3/5], Step [600/600], Loss: 0.0717\n",
      "Epoch [4/5], Step [100/600], Loss: 0.0625\n",
      "Epoch [4/5], Step [200/600], Loss: 0.0365\n",
      "Epoch [4/5], Step [300/600], Loss: 0.0283\n",
      "Epoch [4/5], Step [400/600], Loss: 0.0830\n",
      "Epoch [4/5], Step [500/600], Loss: 0.0756\n",
      "Epoch [4/5], Step [600/600], Loss: 0.0145\n",
      "Epoch [5/5], Step [100/600], Loss: 0.0206\n",
      "Epoch [5/5], Step [200/600], Loss: 0.0147\n",
      "Epoch [5/5], Step [300/600], Loss: 0.0088\n",
      "Epoch [5/5], Step [400/600], Loss: 0.0809\n",
      "Epoch [5/5], Step [500/600], Loss: 0.0359\n",
      "Epoch [5/5], Step [600/600], Loss: 0.0323\n"
     ]
    }
   ],
   "source": [
    "\n",
    "# Train the model\n",
    "total_step = len(train_loader)\n",
    "for epoch in range(num_epochs):\n",
    "    for i, (images, labels) in enumerate(train_loader):  \n",
    "        # Move tensors to the configured device\n",
    "        images = images.reshape(-1, 28*28).to(device)\n",
    "        labels = labels.to(device)\n",
    "        \n",
    "        # Forward pass\n",
    "        outputs = model(images)\n",
    "        loss = criterion(outputs, labels)\n",
    "        \n",
    "        # Backward and optimize\n",
    "        optimizer.zero_grad()\n",
    "        loss.backward()\n",
    "        optimizer.step()\n",
    "        \n",
    "        if (i+1) % 100 == 0:\n",
    "            print ('Epoch [{}/{}], Step [{}/{}], Loss: {:.4f}' \n",
    "                   .format(epoch+1, num_epochs, i+1, total_step, loss.item()))\n"
   ]
  },
  {
   "cell_type": "code",
   "execution_count": 17,
   "id": "c30fa263-794a-4378-a823-a9566d34c0f7",
   "metadata": {},
   "outputs": [
    {
     "name": "stdout",
     "output_type": "stream",
     "text": [
      "Accuracy of the network on the 10000 test images: 97.67 %\n"
     ]
    }
   ],
   "source": [
    "# Test the model\n",
    "# In test phase, we don't need to compute gradients (for memory efficiency)\n",
    "with torch.no_grad():\n",
    "    correct = 0\n",
    "    total = 0\n",
    "    for images, labels in test_loader:\n",
    "        images = images.reshape(-1, 28*28).to(device)\n",
    "        labels = labels.to(device)\n",
    "        outputs = model(images)\n",
    "        _, predicted = torch.max(outputs.data, 1)\n",
    "        total += labels.size(0)\n",
    "        correct += (predicted == labels).sum().item()\n",
    "\n",
    "    print('Accuracy of the network on the 10000 test images: {} %'.format(100 * correct / total))\n",
    "\n",
    "# Save the model checkpoint\n",
    "torch.save(model.state_dict(), 'model.ckpt')"
   ]
  },
  {
   "cell_type": "code",
   "execution_count": null,
   "id": "9735ad59-72b1-4a4b-a644-ff40be198d32",
   "metadata": {},
   "outputs": [],
   "source": []
  }
 ],
 "metadata": {
  "kernelspec": {
   "display_name": "Python 3 (ipykernel)",
   "language": "python",
   "name": "python3"
  },
  "language_info": {
   "codemirror_mode": {
    "name": "ipython",
    "version": 3
   },
   "file_extension": ".py",
   "mimetype": "text/x-python",
   "name": "python",
   "nbconvert_exporter": "python",
   "pygments_lexer": "ipython3",
   "version": "3.12.4"
  }
 },
 "nbformat": 4,
 "nbformat_minor": 5
}
