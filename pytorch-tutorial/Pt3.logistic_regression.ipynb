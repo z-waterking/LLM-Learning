{
 "cells": [
  {
   "cell_type": "code",
   "execution_count": 1,
   "id": "ced66320-b558-4904-a448-7fe8138a182f",
   "metadata": {},
   "outputs": [],
   "source": [
    "import torch\n",
    "import torch.nn as nn\n",
    "import torchvision\n",
    "import torchvision.transforms as transforms\n"
   ]
  },
  {
   "cell_type": "code",
   "execution_count": 3,
   "id": "798aec81-bb86-4654-a6b4-b6dbc036e671",
   "metadata": {},
   "outputs": [],
   "source": [
    "# Hyper-parameters \n",
    "input_size = 28 * 28    # 784\n",
    "num_classes = 10\n",
    "num_epochs = 5\n",
    "batch_size = 100\n",
    "learning_rate = 0.001"
   ]
  },
  {
   "cell_type": "code",
   "execution_count": 5,
   "id": "cd04181e-9cec-46e0-800f-d1aed244bff7",
   "metadata": {},
   "outputs": [
    {
     "name": "stdout",
     "output_type": "stream",
     "text": [
      "Downloading http://yann.lecun.com/exdb/mnist/train-images-idx3-ubyte.gz\n",
      "Failed to download (trying next):\n",
      "HTTP Error 403: Forbidden\n",
      "\n",
      "Downloading https://ossci-datasets.s3.amazonaws.com/mnist/train-images-idx3-ubyte.gz\n",
      "Downloading https://ossci-datasets.s3.amazonaws.com/mnist/train-images-idx3-ubyte.gz to /data\\MNIST\\raw\\train-images-idx3-ubyte.gz\n"
     ]
    },
    {
     "name": "stderr",
     "output_type": "stream",
     "text": [
      "100%|████████████████████████████████████████████████████████████████████████████████████████████████████████████████████████████████████████████████████████████████████████████████████████████████████████████████████████████████| 9912422/9912422 [00:03<00:00, 3083157.60it/s]\n"
     ]
    },
    {
     "name": "stdout",
     "output_type": "stream",
     "text": [
      "Extracting /data\\MNIST\\raw\\train-images-idx3-ubyte.gz to /data\\MNIST\\raw\n",
      "\n",
      "Downloading http://yann.lecun.com/exdb/mnist/train-labels-idx1-ubyte.gz\n",
      "Failed to download (trying next):\n",
      "HTTP Error 403: Forbidden\n",
      "\n",
      "Downloading https://ossci-datasets.s3.amazonaws.com/mnist/train-labels-idx1-ubyte.gz\n",
      "Downloading https://ossci-datasets.s3.amazonaws.com/mnist/train-labels-idx1-ubyte.gz to /data\\MNIST\\raw\\train-labels-idx1-ubyte.gz\n"
     ]
    },
    {
     "name": "stderr",
     "output_type": "stream",
     "text": [
      "100%|█████████████████████████████████████████████████████████████████████████████████████████████████████████████████████████████████████████████████████████████████████████████████████████████████████████████████████████████████████| 28881/28881 [00:00<00:00, 130063.51it/s]\n"
     ]
    },
    {
     "name": "stdout",
     "output_type": "stream",
     "text": [
      "Extracting /data\\MNIST\\raw\\train-labels-idx1-ubyte.gz to /data\\MNIST\\raw\n",
      "\n",
      "Downloading http://yann.lecun.com/exdb/mnist/t10k-images-idx3-ubyte.gz\n",
      "Failed to download (trying next):\n",
      "HTTP Error 403: Forbidden\n",
      "\n",
      "Downloading https://ossci-datasets.s3.amazonaws.com/mnist/t10k-images-idx3-ubyte.gz\n",
      "Downloading https://ossci-datasets.s3.amazonaws.com/mnist/t10k-images-idx3-ubyte.gz to /data\\MNIST\\raw\\t10k-images-idx3-ubyte.gz\n"
     ]
    },
    {
     "name": "stderr",
     "output_type": "stream",
     "text": [
      "100%|████████████████████████████████████████████████████████████████████████████████████████████████████████████████████████████████████████████████████████████████████████████████████████████████████████████████████████████████| 1648877/1648877 [00:01<00:00, 1068925.01it/s]\n"
     ]
    },
    {
     "name": "stdout",
     "output_type": "stream",
     "text": [
      "Extracting /data\\MNIST\\raw\\t10k-images-idx3-ubyte.gz to /data\\MNIST\\raw\n",
      "\n",
      "Downloading http://yann.lecun.com/exdb/mnist/t10k-labels-idx1-ubyte.gz\n",
      "Failed to download (trying next):\n",
      "HTTP Error 403: Forbidden\n",
      "\n",
      "Downloading https://ossci-datasets.s3.amazonaws.com/mnist/t10k-labels-idx1-ubyte.gz\n",
      "Downloading https://ossci-datasets.s3.amazonaws.com/mnist/t10k-labels-idx1-ubyte.gz to /data\\MNIST\\raw\\t10k-labels-idx1-ubyte.gz\n"
     ]
    },
    {
     "name": "stderr",
     "output_type": "stream",
     "text": [
      "100%|██████████████████████████████████████████████████████████████████████████████████████████████████████████████████████████████████████████████████████████████████████████████████████████████████████████████████████████████████████| 4542/4542 [00:00<00:00, 4536920.40it/s]"
     ]
    },
    {
     "name": "stdout",
     "output_type": "stream",
     "text": [
      "Extracting /data\\MNIST\\raw\\t10k-labels-idx1-ubyte.gz to /data\\MNIST\\raw\n",
      "\n"
     ]
    },
    {
     "name": "stderr",
     "output_type": "stream",
     "text": [
      "\n"
     ]
    }
   ],
   "source": [
    "\n",
    "# MNIST dataset (images and labels)\n",
    "train_dataset = torchvision.datasets.MNIST(root='/data', \n",
    "                                           train=True, \n",
    "                                           transform=transforms.ToTensor(),\n",
    "                                           download=True)\n",
    "\n",
    "test_dataset = torchvision.datasets.MNIST(root='/data', \n",
    "                                          train=False, \n",
    "                                          transform=transforms.ToTensor())\n",
    "\n",
    "# Data loader (input pipeline)\n",
    "train_loader = torch.utils.data.DataLoader(dataset=train_dataset, \n",
    "                                           batch_size=batch_size, \n",
    "                                           shuffle=True)\n",
    "\n",
    "test_loader = torch.utils.data.DataLoader(dataset=test_dataset, \n",
    "                                          batch_size=batch_size, \n",
    "                                          shuffle=False)\n"
   ]
  },
  {
   "cell_type": "code",
   "execution_count": 9,
   "id": "2175e52e-cb1b-4a90-9019-9950db4ae097",
   "metadata": {},
   "outputs": [],
   "source": [
    "model = nn.Linear(input_size, num_classes)"
   ]
  },
  {
   "cell_type": "code",
   "execution_count": 15,
   "id": "e5bfbd3d-dd3e-4355-bf74-71cbadfa56e1",
   "metadata": {},
   "outputs": [],
   "source": [
    "\n",
    "# Loss and optimizer\n",
    "# nn.CrossEntropyLoss() computes softmax internally\n",
    "criterion = nn.CrossEntropyLoss()  \n",
    "optimizer = torch.optim.SGD(model.parameters(), lr=learning_rate)  \n"
   ]
  },
  {
   "cell_type": "code",
   "execution_count": 23,
   "id": "685b86c5-edf9-49af-a727-39720d76b5f8",
   "metadata": {},
   "outputs": [
    {
     "name": "stdout",
     "output_type": "stream",
     "text": [
      "torch.Size([100, 1, 28, 28])\n",
      "tensor([[0., 0., 0.,  ..., 0., 0., 0.],\n",
      "        [0., 0., 0.,  ..., 0., 0., 0.],\n",
      "        [0., 0., 0.,  ..., 0., 0., 0.],\n",
      "        ...,\n",
      "        [0., 0., 0.,  ..., 0., 0., 0.],\n",
      "        [0., 0., 0.,  ..., 0., 0., 0.],\n",
      "        [0., 0., 0.,  ..., 0., 0., 0.]])\n",
      "torch.Size([100, 784])\n"
     ]
    }
   ],
   "source": [
    "for i, (images, labels) in enumerate(train_loader):\n",
    "    break\n",
    "print(images.shape)\n",
    "images = images.reshape(-1, input_size)\n",
    "\n",
    "print(images)\n",
    "print(images.shape)"
   ]
  },
  {
   "cell_type": "code",
   "execution_count": 25,
   "id": "1868b4b6-70d4-462d-8d9b-8a3d28b80774",
   "metadata": {},
   "outputs": [
    {
     "name": "stdout",
     "output_type": "stream",
     "text": [
      "Epoch [1/5], Step [100/600], Loss: 2.2119\n",
      "Epoch [1/5], Step [200/600], Loss: 2.1050\n",
      "Epoch [1/5], Step [300/600], Loss: 2.0824\n",
      "Epoch [1/5], Step [400/600], Loss: 1.9850\n",
      "Epoch [1/5], Step [500/600], Loss: 1.8948\n",
      "Epoch [1/5], Step [600/600], Loss: 1.7563\n",
      "Epoch [2/5], Step [100/600], Loss: 1.7831\n",
      "Epoch [2/5], Step [200/600], Loss: 1.6833\n",
      "Epoch [2/5], Step [300/600], Loss: 1.5648\n",
      "Epoch [2/5], Step [400/600], Loss: 1.5674\n",
      "Epoch [2/5], Step [500/600], Loss: 1.5668\n",
      "Epoch [2/5], Step [600/600], Loss: 1.5637\n",
      "Epoch [3/5], Step [100/600], Loss: 1.4031\n",
      "Epoch [3/5], Step [200/600], Loss: 1.4004\n",
      "Epoch [3/5], Step [300/600], Loss: 1.3654\n",
      "Epoch [3/5], Step [400/600], Loss: 1.3296\n",
      "Epoch [3/5], Step [500/600], Loss: 1.2382\n",
      "Epoch [3/5], Step [600/600], Loss: 1.2155\n",
      "Epoch [4/5], Step [100/600], Loss: 1.2592\n",
      "Epoch [4/5], Step [200/600], Loss: 1.2371\n",
      "Epoch [4/5], Step [300/600], Loss: 1.2632\n",
      "Epoch [4/5], Step [400/600], Loss: 1.2414\n",
      "Epoch [4/5], Step [500/600], Loss: 1.0418\n",
      "Epoch [4/5], Step [600/600], Loss: 1.0529\n",
      "Epoch [5/5], Step [100/600], Loss: 1.1323\n",
      "Epoch [5/5], Step [200/600], Loss: 1.0108\n",
      "Epoch [5/5], Step [300/600], Loss: 1.0626\n",
      "Epoch [5/5], Step [400/600], Loss: 1.1523\n",
      "Epoch [5/5], Step [500/600], Loss: 0.9655\n",
      "Epoch [5/5], Step [600/600], Loss: 0.9708\n"
     ]
    }
   ],
   "source": [
    "\n",
    "# Train the model\n",
    "total_step = len(train_loader)\n",
    "for epoch in range(num_epochs):\n",
    "    for i, (images, labels) in enumerate(train_loader):\n",
    "        # Reshape images to (batch_size, input_size)\n",
    "        images = images.reshape(-1, input_size)\n",
    "        \n",
    "        # Forward pass\n",
    "        outputs = model(images)\n",
    "        loss = criterion(outputs, labels)\n",
    "        \n",
    "        # Backward and optimize\n",
    "        optimizer.zero_grad()\n",
    "        loss.backward()\n",
    "        optimizer.step()\n",
    "        \n",
    "        if (i+1) % 100 == 0:\n",
    "            print ('Epoch [{}/{}], Step [{}/{}], Loss: {:.4f}' \n",
    "                   .format(epoch+1, num_epochs, i+1, total_step, loss.item()))\n"
   ]
  },
  {
   "cell_type": "code",
   "execution_count": 37,
   "id": "56d03402-917a-42c9-a560-fd75bfe2e3ea",
   "metadata": {},
   "outputs": [
    {
     "name": "stdout",
     "output_type": "stream",
     "text": [
      "torch.Size([100, 10])\n",
      "tensor([2.9556, 1.4110, 2.2362, 2.9545, 1.8205, 2.7986, 1.3135, 1.2086, 0.7847,\n",
      "        1.9443, 3.3458, 0.8363, 2.1264, 2.9698, 2.6339, 1.4017, 1.4938, 2.7206,\n",
      "        1.1951, 1.8575, 1.5707, 2.1467, 1.0089, 1.2129, 1.3625, 4.0520, 1.7896,\n",
      "        2.3757, 2.7827, 1.4505, 2.2126, 1.0999, 2.4560, 1.9094, 1.7703, 2.4034,\n",
      "        2.2524, 2.0297, 1.0409, 3.0094, 1.4867, 1.9337, 2.1093, 1.1147, 1.2613,\n",
      "        1.6455, 0.8726, 1.4911, 2.7549, 2.4140, 2.0019, 1.8861, 1.3213, 1.0768,\n",
      "        1.1737, 1.5254, 2.7508, 2.3441, 2.0822, 0.3754, 1.8618, 1.2002, 0.9063,\n",
      "        1.2373, 1.6780, 0.9123, 0.9118, 2.0263, 2.7916, 2.5636, 2.7137, 4.3931,\n",
      "        1.9308, 0.9875, 2.2181, 1.8041, 2.3047, 1.5662, 1.0178, 3.1810, 1.8184,\n",
      "        2.3726, 3.8270, 2.2025, 0.8348, 2.9002, 3.0308, 1.8665, 2.7231, 3.0188,\n",
      "        2.9419, 2.5745, 0.7163, 2.6400, 1.8741, 2.3668, 0.6184, 1.4236, 1.8758,\n",
      "        2.0224])\n",
      "tensor([7, 2, 1, 0, 4, 1, 4, 9, 2, 9, 0, 0, 9, 0, 1, 3, 9, 7, 3, 4, 9, 6, 6, 5,\n",
      "        4, 0, 7, 4, 0, 1, 3, 1, 3, 0, 7, 2, 7, 1, 3, 1, 1, 7, 4, 1, 3, 3, 3, 2,\n",
      "        4, 4, 6, 3, 5, 3, 2, 0, 4, 1, 9, 7, 7, 8, 9, 2, 7, 9, 2, 4, 3, 0, 7, 0,\n",
      "        2, 8, 1, 7, 3, 7, 1, 7, 9, 6, 2, 7, 8, 4, 7, 3, 6, 1, 3, 6, 8, 3, 1, 4,\n",
      "        3, 1, 6, 9])\n"
     ]
    }
   ],
   "source": [
    "for images, labels in test_loader:\n",
    "    break\n",
    "images = images.reshape(-1, input_size)\n",
    "outputs = model(images)\n",
    "print(outputs.shape)\n",
    "a, b = torch.max(outputs.data, 1)\n",
    "print(a)\n",
    "print(b)"
   ]
  },
  {
   "cell_type": "code",
   "execution_count": 39,
   "id": "bd411dae-9eca-445c-800e-c1bfead325c5",
   "metadata": {},
   "outputs": [
    {
     "name": "stdout",
     "output_type": "stream",
     "text": [
      "Accuracy of the model on the 10000 test images: 83.02999877929688 %\n"
     ]
    }
   ],
   "source": [
    "with torch.no_grad():\n",
    "    correct = 0\n",
    "    total = 0\n",
    "    for images, labels in test_loader:\n",
    "        images = images.reshape(-1, input_size)\n",
    "        outputs = model(images)\n",
    "        _, predicted = torch.max(outputs.data, 1)\n",
    "        total += labels.size(0)\n",
    "        correct += (predicted == labels).sum()\n",
    "\n",
    "    print('Accuracy of the model on the 10000 test images: {} %'.format(100 * correct / total))\n"
   ]
  },
  {
   "cell_type": "code",
   "execution_count": 41,
   "id": "06817c9d-5b9d-434f-906a-bae42b42ea21",
   "metadata": {},
   "outputs": [],
   "source": [
    "# Save the model checkpoint\n",
    "torch.save(model.state_dict(), 'model.ckpt')"
   ]
  },
  {
   "cell_type": "code",
   "execution_count": null,
   "id": "21fcfc21-0701-4016-bd28-105ed8d39bb1",
   "metadata": {},
   "outputs": [],
   "source": []
  }
 ],
 "metadata": {
  "kernelspec": {
   "display_name": "Python 3 (ipykernel)",
   "language": "python",
   "name": "python3"
  },
  "language_info": {
   "codemirror_mode": {
    "name": "ipython",
    "version": 3
   },
   "file_extension": ".py",
   "mimetype": "text/x-python",
   "name": "python",
   "nbconvert_exporter": "python",
   "pygments_lexer": "ipython3",
   "version": "3.12.4"
  }
 },
 "nbformat": 4,
 "nbformat_minor": 5
}
