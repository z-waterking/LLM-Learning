{
 "cells": [
  {
   "cell_type": "code",
   "execution_count": 1,
   "id": "7572fc4a-a369-46e2-a6d8-1dffe4ad0080",
   "metadata": {},
   "outputs": [],
   "source": [
    "import torch \n",
    "import torch.nn as nn\n",
    "import torchvision\n",
    "import torchvision.transforms as transforms\n",
    "\n",
    "\n",
    "# Device configuration\n",
    "device = torch.device('cuda:0' if torch.cuda.is_available() else 'cpu')\n",
    "\n",
    "# Hyper parameters\n",
    "num_epochs = 5\n",
    "num_classes = 10\n",
    "batch_size = 100\n",
    "learning_rate = 0.001\n",
    "\n",
    "# MNIST dataset\n",
    "train_dataset = torchvision.datasets.MNIST(root='/data/',\n",
    "                                           train=True, \n",
    "                                           transform=transforms.ToTensor(),\n",
    "                                           download=True)\n",
    "\n",
    "test_dataset = torchvision.datasets.MNIST(root='/data/',\n",
    "                                          train=False, \n",
    "                                          transform=transforms.ToTensor())\n",
    "\n",
    "# Data loader\n",
    "train_loader = torch.utils.data.DataLoader(dataset=train_dataset,\n",
    "                                           batch_size=batch_size, \n",
    "                                           shuffle=True)\n",
    "\n",
    "test_loader = torch.utils.data.DataLoader(dataset=test_dataset,\n",
    "                                          batch_size=batch_size, \n",
    "                                          shuffle=False)"
   ]
  },
  {
   "cell_type": "code",
   "execution_count": 5,
   "id": "ca5c1794-23d6-4b1d-9edc-0c0557410bc6",
   "metadata": {},
   "outputs": [],
   "source": [
    "class ConvNet(nn.Module):\n",
    "    def __init__(self, num_classes = 10):\n",
    "        super(ConvNet, self).__init__()\n",
    "        self.layer1 = nn.Sequential(\n",
    "            nn.Conv2d(1, 16, kernel_size = 5, stride = 1, padding = 2),\n",
    "            nn.BatchNorm2d(16),\n",
    "            nn.ReLU(),\n",
    "            nn.MaxPool2d(kernel_size = 2, stride = 2))\n",
    "        self.layer2 = nn.Sequential(\n",
    "            nn.Conv2d(16, 32, kernel_size=5, stride=1, padding=2),\n",
    "            nn.BatchNorm2d(32),\n",
    "            nn.ReLU(),\n",
    "            nn.MaxPool2d(kernel_size=2, stride=2))\n",
    "        self.fc = nn.Linear(7*7*32, num_classes)\n",
    "    \n",
    "    def forward(self, x):\n",
    "        out = self.layer1(x)\n",
    "        out = self.layer2(out)\n",
    "        out = out.reshape(out.size(0), -1)\n",
    "        out = self.fc(out)\n",
    "        return out"
   ]
  },
  {
   "cell_type": "code",
   "execution_count": 7,
   "id": "fd3a6226-b0a7-488f-b071-d802e35bd033",
   "metadata": {},
   "outputs": [],
   "source": [
    "model = ConvNet(num_classes).to(device)\n",
    "# Loss and optimizer\n",
    "criterion = nn.CrossEntropyLoss()\n",
    "optimizer = torch.optim.Adam(model.parameters(), lr=learning_rate)"
   ]
  },
  {
   "cell_type": "code",
   "execution_count": 9,
   "id": "3c2ba33b-3ec3-4182-942e-8c3e4093d47b",
   "metadata": {},
   "outputs": [
    {
     "name": "stdout",
     "output_type": "stream",
     "text": [
      "Epoch [1/5], Step [100/600], Loss: 0.1743\n",
      "Epoch [1/5], Step [200/600], Loss: 0.1444\n",
      "Epoch [1/5], Step [300/600], Loss: 0.0843\n",
      "Epoch [1/5], Step [400/600], Loss: 0.0580\n",
      "Epoch [1/5], Step [500/600], Loss: 0.1467\n",
      "Epoch [1/5], Step [600/600], Loss: 0.0334\n",
      "Epoch [2/5], Step [100/600], Loss: 0.0434\n",
      "Epoch [2/5], Step [200/600], Loss: 0.1128\n",
      "Epoch [2/5], Step [300/600], Loss: 0.0204\n",
      "Epoch [2/5], Step [400/600], Loss: 0.0315\n",
      "Epoch [2/5], Step [500/600], Loss: 0.0734\n",
      "Epoch [2/5], Step [600/600], Loss: 0.0312\n",
      "Epoch [3/5], Step [100/600], Loss: 0.0201\n",
      "Epoch [3/5], Step [200/600], Loss: 0.0057\n",
      "Epoch [3/5], Step [300/600], Loss: 0.0667\n",
      "Epoch [3/5], Step [400/600], Loss: 0.0673\n",
      "Epoch [3/5], Step [500/600], Loss: 0.1069\n",
      "Epoch [3/5], Step [600/600], Loss: 0.0268\n",
      "Epoch [4/5], Step [100/600], Loss: 0.0082\n",
      "Epoch [4/5], Step [200/600], Loss: 0.0232\n",
      "Epoch [4/5], Step [300/600], Loss: 0.0570\n",
      "Epoch [4/5], Step [400/600], Loss: 0.0053\n",
      "Epoch [4/5], Step [500/600], Loss: 0.0120\n",
      "Epoch [4/5], Step [600/600], Loss: 0.1210\n",
      "Epoch [5/5], Step [100/600], Loss: 0.0181\n",
      "Epoch [5/5], Step [200/600], Loss: 0.0095\n",
      "Epoch [5/5], Step [300/600], Loss: 0.0456\n",
      "Epoch [5/5], Step [400/600], Loss: 0.0301\n",
      "Epoch [5/5], Step [500/600], Loss: 0.0245\n",
      "Epoch [5/5], Step [600/600], Loss: 0.0753\n"
     ]
    }
   ],
   "source": [
    "\n",
    "# Train the model\n",
    "total_step = len(train_loader)\n",
    "for epoch in range(num_epochs):\n",
    "    for i, (images, labels) in enumerate(train_loader):\n",
    "        images = images.to(device)\n",
    "        labels = labels.to(device)\n",
    "        \n",
    "        # Forward pass\n",
    "        outputs = model(images)\n",
    "        loss = criterion(outputs, labels)\n",
    "        \n",
    "        # Backward and optimize\n",
    "        optimizer.zero_grad()\n",
    "        loss.backward()\n",
    "        optimizer.step()\n",
    "        \n",
    "        if (i+1) % 100 == 0:\n",
    "            print ('Epoch [{}/{}], Step [{}/{}], Loss: {:.4f}' \n",
    "                   .format(epoch+1, num_epochs, i+1, total_step, loss.item()))\n"
   ]
  },
  {
   "cell_type": "code",
   "execution_count": 10,
   "id": "0b97a213-f841-4157-90a9-900bfc020f42",
   "metadata": {},
   "outputs": [
    {
     "name": "stdout",
     "output_type": "stream",
     "text": [
      "Test Accuracy of the model on the 10000 test images: 99.07 %\n"
     ]
    }
   ],
   "source": [
    "# Test the model\n",
    "model.eval()  # eval mode (batchnorm uses moving mean/variance instead of mini-batch mean/variance)\n",
    "with torch.no_grad():\n",
    "    correct = 0\n",
    "    total = 0\n",
    "    for images, labels in test_loader:\n",
    "        images = images.to(device)\n",
    "        labels = labels.to(device)\n",
    "        outputs = model(images)\n",
    "        _, predicted = torch.max(outputs.data, 1)\n",
    "        total += labels.size(0)\n",
    "        correct += (predicted == labels).sum().item()\n",
    "\n",
    "    print('Test Accuracy of the model on the 10000 test images: {} %'.format(100 * correct / total))\n",
    "\n",
    "# Save the model checkpoint\n",
    "torch.save(model.state_dict(), 'model.ckpt')"
   ]
  },
  {
   "cell_type": "code",
   "execution_count": null,
   "id": "4257b1b1-6c34-4a1e-8a34-cdf3c0f07c50",
   "metadata": {},
   "outputs": [],
   "source": []
  }
 ],
 "metadata": {
  "kernelspec": {
   "display_name": "Python 3 (ipykernel)",
   "language": "python",
   "name": "python3"
  },
  "language_info": {
   "codemirror_mode": {
    "name": "ipython",
    "version": 3
   },
   "file_extension": ".py",
   "mimetype": "text/x-python",
   "name": "python",
   "nbconvert_exporter": "python",
   "pygments_lexer": "ipython3",
   "version": "3.12.4"
  }
 },
 "nbformat": 4,
 "nbformat_minor": 5
}
