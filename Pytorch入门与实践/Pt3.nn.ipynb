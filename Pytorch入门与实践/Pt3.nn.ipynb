{
 "cells": [
  {
   "cell_type": "code",
   "execution_count": 1,
   "id": "f85df6ee-2a24-4270-a4b4-462c1e72e965",
   "metadata": {},
   "outputs": [],
   "source": [
    "import torch as t\n",
    "from torch import nn\n",
    "from torch.autograd import Variable as V"
   ]
  },
  {
   "cell_type": "code",
   "execution_count": 9,
   "id": "106f7b00-00bf-4122-885f-1278c53e778c",
   "metadata": {},
   "outputs": [],
   "source": [
    "class Linear(nn.Module):\n",
    "    def __init__(self, in_features, out_features):\n",
    "        super(Linear, self).__init__()\n",
    "        self.w = nn.Parameter(t.randn(in_features, out_features))\n",
    "        self.b = nn.Parameter(t.randn(out_features))\n",
    "\n",
    "    def forward(self, x):\n",
    "        x = x.mm(self.w)\n",
    "        return x + self.b.expand_as(x)\n"
   ]
  },
  {
   "cell_type": "code",
   "execution_count": 11,
   "id": "fe8205cd-dc37-4ecb-a30e-0fc7c09ed217",
   "metadata": {},
   "outputs": [
    {
     "data": {
      "text/plain": [
       "tensor([[-0.2058, -1.6346, -1.3626],\n",
       "        [-2.1448, -4.4786, -2.9667]], grad_fn=<AddBackward0>)"
      ]
     },
     "execution_count": 11,
     "metadata": {},
     "output_type": "execute_result"
    }
   ],
   "source": [
    "layer = Linear(4, 3)\n",
    "input = V(t.randn(2, 4))\n",
    "output = layer(input)\n",
    "output"
   ]
  },
  {
   "cell_type": "code",
   "execution_count": 13,
   "id": "8a8e915d-be2d-4430-801a-227c35257023",
   "metadata": {},
   "outputs": [
    {
     "data": {
      "text/plain": [
       "tensor([[-0.5647, -0.1169,  1.7913,  0.8200],\n",
       "        [-1.2142, -0.4016, -1.2982,  0.6233]])"
      ]
     },
     "execution_count": 13,
     "metadata": {},
     "output_type": "execute_result"
    }
   ],
   "source": [
    "input"
   ]
  },
  {
   "cell_type": "code",
   "execution_count": 21,
   "id": "b21e70ae-4b5c-42d0-85c1-f368ef3fa124",
   "metadata": {},
   "outputs": [
    {
     "data": {
      "text/plain": [
       "(Parameter containing:\n",
       " tensor([[ 1.8562,  1.6121,  0.5901],\n",
       "         [-2.1290,  1.0315, -0.6647],\n",
       "         [ 0.4427,  0.5946,  0.4454],\n",
       "         [-0.1427, -1.6970,  0.1725]], requires_grad=True),\n",
       " torch.Size([4, 3]))"
      ]
     },
     "execution_count": 21,
     "metadata": {},
     "output_type": "execute_result"
    }
   ],
   "source": [
    "layer.w, layer.w.shape"
   ]
  },
  {
   "cell_type": "code",
   "execution_count": 23,
   "id": "65e1b9b3-4e95-42c2-9976-a75d69982945",
   "metadata": {},
   "outputs": [
    {
     "data": {
      "text/plain": [
       "(Parameter containing:\n",
       " tensor([-0.0826, -0.2771, -2.0465], requires_grad=True),\n",
       " torch.Size([3]))"
      ]
     },
     "execution_count": 23,
     "metadata": {},
     "output_type": "execute_result"
    }
   ],
   "source": [
    "layer.b, layer.b.shape"
   ]
  },
  {
   "cell_type": "code",
   "execution_count": 27,
   "id": "5f8e5c89-9b80-4bab-9da2-dda795860c28",
   "metadata": {},
   "outputs": [
    {
     "data": {
      "text/plain": [
       "tensor([[-0.0826, -0.2771, -2.0465],\n",
       "        [-0.0826, -0.2771, -2.0465],\n",
       "        [-0.0826, -0.2771, -2.0465],\n",
       "        [-0.0826, -0.2771, -2.0465]], grad_fn=<ExpandBackward0>)"
      ]
     },
     "execution_count": 27,
     "metadata": {},
     "output_type": "execute_result"
    }
   ],
   "source": [
    "layer.b.expand_as(layer.w)"
   ]
  },
  {
   "cell_type": "code",
   "execution_count": 29,
   "id": "093ae58a-ea14-4ce0-a2a0-6a342aca34db",
   "metadata": {},
   "outputs": [
    {
     "name": "stdout",
     "output_type": "stream",
     "text": [
      "w Parameter containing:\n",
      "tensor([[ 1.8562,  1.6121,  0.5901],\n",
      "        [-2.1290,  1.0315, -0.6647],\n",
      "        [ 0.4427,  0.5946,  0.4454],\n",
      "        [-0.1427, -1.6970,  0.1725]], requires_grad=True)\n",
      "b Parameter containing:\n",
      "tensor([-0.0826, -0.2771, -2.0465], requires_grad=True)\n"
     ]
    }
   ],
   "source": [
    "for name, parameter in layer.named_parameters():\n",
    "    print(name, parameter)"
   ]
  },
  {
   "cell_type": "code",
   "execution_count": 43,
   "id": "eb99ab79-b8ea-43b8-ae19-118e17538dec",
   "metadata": {},
   "outputs": [],
   "source": [
    "class Perceptron(nn.Module):\n",
    "    def __init__(self, in_features, hidden_features, out_features):\n",
    "        nn.Module.__init__(self)\n",
    "        self.layer1 = Linear(in_features, hidden_features)\n",
    "        self.layer2 = Linear(hidden_features, out_features)\n",
    "    def forward(self, x):\n",
    "        out = self.layer1(x)\n",
    "        out = self.layer2(out)\n",
    "        out = t.sigmoid(out)\n",
    "        return out"
   ]
  },
  {
   "cell_type": "code",
   "execution_count": 47,
   "id": "09a4fc72-bfbb-4b42-9c72-04692b034b2a",
   "metadata": {},
   "outputs": [
    {
     "name": "stdout",
     "output_type": "stream",
     "text": [
      "layer1.w torch.Size([3, 4])\n",
      "layer1.b torch.Size([4])\n",
      "layer2.w torch.Size([4, 1])\n",
      "layer2.b torch.Size([1])\n"
     ]
    }
   ],
   "source": [
    "perceptron = Perceptron(3, 4, 1)\n",
    "for name, param in perceptron.named_parameters():\n",
    "    print(name, param.size())"
   ]
  },
  {
   "cell_type": "code",
   "execution_count": 51,
   "id": "887fe61c-f653-4ffe-b72a-54a800243ac9",
   "metadata": {},
   "outputs": [
    {
     "name": "stdout",
     "output_type": "stream",
     "text": [
      "tensor([[ 0.7565, -0.1800,  0.6593],\n",
      "        [-1.2865,  0.4160, -0.6528]])\n",
      "tensor([[0.7565, 0.0000, 0.6593],\n",
      "        [0.0000, 0.4160, 0.0000]])\n"
     ]
    }
   ],
   "source": [
    "relu = nn.ReLU(inplace  = True)\n",
    "input = V(t.randn(2, 3))\n",
    "print(input)\n",
    "output = relu(input)\n",
    "print(output)"
   ]
  },
  {
   "cell_type": "code",
   "execution_count": 53,
   "id": "2f387b8a-2241-4edd-954c-0d3344c81f09",
   "metadata": {},
   "outputs": [
    {
     "name": "stdout",
     "output_type": "stream",
     "text": [
      "net1 Sequential(\n",
      "  (conv): Conv2d(3, 3, kernel_size=(3, 3), stride=(1, 1))\n",
      "  (batchnorm): BatchNorm2d(3, eps=1e-05, momentum=0.1, affine=True, track_running_stats=True)\n",
      "  (activation_layer): ReLU()\n",
      ")\n",
      "net2 Sequential(\n",
      "  (0): Conv2d(3, 3, kernel_size=(3, 3), stride=(1, 1))\n",
      "  (1): BatchNorm2d(3, eps=1e-05, momentum=0.1, affine=True, track_running_stats=True)\n",
      "  (2): ReLU()\n",
      ")\n",
      "net3 Sequential(\n",
      "  (conv1): Conv2d(3, 3, kernel_size=(3, 3), stride=(1, 1))\n",
      "  (bn1): BatchNorm2d(3, eps=1e-05, momentum=0.1, affine=True, track_running_stats=True)\n",
      "  (relu1): ReLU()\n",
      ")\n"
     ]
    }
   ],
   "source": [
    "net1 = nn.Sequential()\n",
    "net1.add_module('conv', nn.Conv2d(3, 3, 3))\n",
    "net1.add_module('batchnorm', nn.BatchNorm2d(3))\n",
    "net1.add_module('activation_layer', nn.ReLU())\n",
    "\n",
    "net2 = nn.Sequential(\n",
    "    nn.Conv2d(3, 3, 3),\n",
    "    nn.BatchNorm2d(3),\n",
    "    nn.ReLU()\n",
    ")\n",
    "\n",
    "from collections import OrderedDict\n",
    "net3 = nn.Sequential(OrderedDict([\n",
    "    ('conv1', nn.Conv2d(3, 3, 3)),\n",
    "    ('bn1', nn.BatchNorm2d(3)),\n",
    "    ('relu1', nn.ReLU())\n",
    "]))\n",
    "print('net1', net1)\n",
    "print('net2', net2)\n",
    "print('net3', net3)"
   ]
  },
  {
   "cell_type": "code",
   "execution_count": 55,
   "id": "1f4b1075-ab54-4952-b6fc-700bf2f0393f",
   "metadata": {},
   "outputs": [
    {
     "data": {
      "text/plain": [
       "(Conv2d(3, 3, kernel_size=(3, 3), stride=(1, 1)),\n",
       " Conv2d(3, 3, kernel_size=(3, 3), stride=(1, 1)),\n",
       " Conv2d(3, 3, kernel_size=(3, 3), stride=(1, 1)))"
      ]
     },
     "execution_count": 55,
     "metadata": {},
     "output_type": "execute_result"
    }
   ],
   "source": [
    "net1.conv, net2[0], net3.conv1"
   ]
  },
  {
   "cell_type": "code",
   "execution_count": 57,
   "id": "2e6b9758-a4f4-43de-ba79-6d24294009cb",
   "metadata": {},
   "outputs": [
    {
     "data": {
      "text/plain": [
       "Linear(in_features=3, out_features=4, bias=True)"
      ]
     },
     "execution_count": 57,
     "metadata": {},
     "output_type": "execute_result"
    }
   ],
   "source": [
    "from torch.nn import init\n",
    "linear = nn.Linear(3, 4)\n",
    "linear"
   ]
  },
  {
   "cell_type": "code",
   "execution_count": 59,
   "id": "add6c3e3-d2a3-4c40-8c6e-80d5648eb0a5",
   "metadata": {},
   "outputs": [
    {
     "data": {
      "text/plain": [
       "<torch._C.Generator at 0x1e2c40e3530>"
      ]
     },
     "execution_count": 59,
     "metadata": {},
     "output_type": "execute_result"
    }
   ],
   "source": [
    "t.manual_seed(1)"
   ]
  },
  {
   "cell_type": "code",
   "execution_count": 61,
   "id": "dd55b30a-992b-4727-b95e-3a334007d83c",
   "metadata": {},
   "outputs": [
    {
     "data": {
      "text/plain": [
       "Parameter containing:\n",
       "tensor([[-0.1404,  0.1607,  0.5435],\n",
       "        [ 0.0867, -0.0591, -0.4624],\n",
       "        [ 0.2085,  0.3310,  0.1339],\n",
       "        [-0.2273, -0.3168, -0.3913]], requires_grad=True)"
      ]
     },
     "execution_count": 61,
     "metadata": {},
     "output_type": "execute_result"
    }
   ],
   "source": [
    "linear.weight"
   ]
  },
  {
   "cell_type": "code",
   "execution_count": 63,
   "id": "83d31e15-4fef-4815-b54a-956fce885957",
   "metadata": {},
   "outputs": [
    {
     "name": "stderr",
     "output_type": "stream",
     "text": [
      "C:\\Users\\sifanzhang\\AppData\\Local\\Temp\\ipykernel_18020\\257789364.py:1: UserWarning: nn.init.xavier_normal is now deprecated in favor of nn.init.xavier_normal_.\n",
      "  init.xavier_normal(linear.weight)\n"
     ]
    },
    {
     "data": {
      "text/plain": [
       "Parameter containing:\n",
       "tensor([[ 0.3535,  0.1427,  0.0330],\n",
       "        [ 0.3321, -0.2416, -0.0888],\n",
       "        [-0.8140,  0.2040, -0.5493],\n",
       "        [-0.3010, -0.4769, -0.0311]], requires_grad=True)"
      ]
     },
     "execution_count": 63,
     "metadata": {},
     "output_type": "execute_result"
    }
   ],
   "source": [
    "init.xavier_normal(linear.weight)"
   ]
  },
  {
   "cell_type": "code",
   "execution_count": 67,
   "id": "fd4d2d34-925f-481d-a9d5-a77424cfcf99",
   "metadata": {},
   "outputs": [
    {
     "data": {
      "text/plain": [
       "tensor([[ 0.3535,  0.1427,  0.0330],\n",
       "        [ 0.3321, -0.2416, -0.0888],\n",
       "        [-0.8140,  0.2040, -0.5493],\n",
       "        [-0.3010, -0.4769, -0.0311]])"
      ]
     },
     "execution_count": 67,
     "metadata": {},
     "output_type": "execute_result"
    }
   ],
   "source": [
    "import math\n",
    "t.manual_seed(1)\n",
    "\n",
    "std = math.sqrt(2)/math.sqrt(7.)\n",
    "linear.weight.data.normal_(0, std)"
   ]
  },
  {
   "cell_type": "code",
   "execution_count": null,
   "id": "6298b818-c74a-404c-a0be-94bbed92fca4",
   "metadata": {},
   "outputs": [],
   "source": []
  },
  {
   "cell_type": "code",
   "execution_count": null,
   "id": "30db3a6a-f821-40cd-ab62-e49c33430505",
   "metadata": {},
   "outputs": [],
   "source": []
  },
  {
   "cell_type": "code",
   "execution_count": null,
   "id": "2a897b1d-fba2-4c53-b220-3519cf898788",
   "metadata": {},
   "outputs": [],
   "source": []
  },
  {
   "cell_type": "code",
   "execution_count": null,
   "id": "7ced6fd4-610c-497a-9247-bcfa2aaa6adc",
   "metadata": {},
   "outputs": [],
   "source": []
  },
  {
   "cell_type": "code",
   "execution_count": null,
   "id": "4b5909c3-68f9-49fa-81d5-4b18e6b07b98",
   "metadata": {},
   "outputs": [],
   "source": []
  },
  {
   "cell_type": "code",
   "execution_count": null,
   "id": "7183f15a-f75b-4b0e-9e75-d78356d2075c",
   "metadata": {},
   "outputs": [],
   "source": []
  },
  {
   "cell_type": "code",
   "execution_count": null,
   "id": "239c22cf-2981-4bc6-a9a1-c793e0733c03",
   "metadata": {},
   "outputs": [],
   "source": []
  },
  {
   "cell_type": "code",
   "execution_count": null,
   "id": "16280124-03d8-455d-8e33-ee0c9a5c689f",
   "metadata": {},
   "outputs": [],
   "source": []
  },
  {
   "cell_type": "code",
   "execution_count": null,
   "id": "49de8863-075d-4424-bdd0-878ca306109a",
   "metadata": {},
   "outputs": [],
   "source": []
  },
  {
   "cell_type": "code",
   "execution_count": null,
   "id": "112be7b1-ae90-42d5-84e8-e910c2e00a62",
   "metadata": {},
   "outputs": [],
   "source": []
  }
 ],
 "metadata": {
  "kernelspec": {
   "display_name": "Python 3 (ipykernel)",
   "language": "python",
   "name": "python3"
  },
  "language_info": {
   "codemirror_mode": {
    "name": "ipython",
    "version": 3
   },
   "file_extension": ".py",
   "mimetype": "text/x-python",
   "name": "python",
   "nbconvert_exporter": "python",
   "pygments_lexer": "ipython3",
   "version": "3.12.4"
  }
 },
 "nbformat": 4,
 "nbformat_minor": 5
}
